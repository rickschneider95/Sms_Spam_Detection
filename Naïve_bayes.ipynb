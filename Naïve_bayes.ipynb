{
 "cells": [
  {
   "cell_type": "markdown",
   "metadata": {},
   "source": [
    "# Naïve Bayes Classifier - Spam detection"
   ]
  },
  {
   "cell_type": "markdown",
   "metadata": {},
   "source": [
    "We've found several resources on the web, articles etc. that tend to indicate that the Nïve bayes classifier especially is very performant for spam detection. We'll be trying this additionnal model on the information we gathered through NLP, that is to say our word count and TF-IDF matrix scores rahter than on features we've found previously for our XGBoost program. Comparing the two models will not only allow us to benchmark our model but also check the scalability of it."
   ]
  },
  {
   "cell_type": "code",
   "execution_count": 1,
   "metadata": {},
   "outputs": [],
   "source": [
    "#load libraries\n",
    "import pandas as pd\n",
    "import matplotlib.pyplot as plt\n",
    "import seaborn as sns\n",
    "\n",
    "import nltk\n",
    "from nltk.corpus import stopwords\n",
    "\n",
    "import re\n",
    "from collections import Counter\n",
    "from sklearn.feature_extraction.text import CountVectorizer\n",
    "from sklearn.feature_extraction.text import TfidfVectorizer\n",
    "\n",
    "from sklearn.model_selection import train_test_split\n",
    "\n",
    "from sklearn.naive_bayes import MultinomialNB\n",
    "\n",
    "from sklearn import metrics\n",
    "from sklearn.metrics import accuracy_score, precision_score, recall_score, confusion_matrix\n",
    "from sklearn.metrics import roc_curve, auc"
   ]
  },
  {
   "cell_type": "markdown",
   "metadata": {},
   "source": [
    "## 1. Loading the data"
   ]
  },
  {
   "cell_type": "markdown",
   "metadata": {},
   "source": [
    "We will be directly working on the data that was preprocessed in our first notebook"
   ]
  },
  {
   "cell_type": "code",
   "execution_count": 2,
   "metadata": {},
   "outputs": [],
   "source": [
    "data = pd.read_csv('spam_data_full.csv',index_col=0)\n",
    "X = data['sms']\n",
    "y = data['class']"
   ]
  },
  {
   "cell_type": "markdown",
   "metadata": {},
   "source": [
    "We can already create our test/train split on which we will work (80-20 in this case)"
   ]
  },
  {
   "cell_type": "code",
   "execution_count": 3,
   "metadata": {},
   "outputs": [],
   "source": [
    "X_train, X_test, y_train, y_test = train_test_split(X, y, test_size=0.2, random_state=111)"
   ]
  },
  {
   "cell_type": "markdown",
   "metadata": {},
   "source": [
    "## 2. Pre - Processing the data "
   ]
  },
  {
   "cell_type": "markdown",
   "metadata": {},
   "source": [
    "### Stopwords and punctiation"
   ]
  },
  {
   "cell_type": "markdown",
   "metadata": {},
   "source": [
    "We aren't applying the same punctuation filter given that some special characters might be of interest (repetitive question and exclamation marks, dollar signs etc.)"
   ]
  },
  {
   "cell_type": "markdown",
   "metadata": {},
   "source": [
    "- Pre-processing data\n",
    "    - As mentionned before, the processing is key for this classifier\n",
    "    - We reverse engineer the preprocessing we apply (stopwords, punctuation etc)\n",
    "    - Some characters are a major distinguisher between ham and spam (\"£\" for example!)"
   ]
  },
  {
   "cell_type": "code",
   "execution_count": 4,
   "metadata": {},
   "outputs": [],
   "source": [
    "def clean_text(text):\n",
    "    \n",
    "    # convert text to lowercase\n",
    "    text = text.strip().lower()\n",
    "    \n",
    "    # replace punctuation characters with spaces\n",
    "    filters='\"\\'%&()*,-./:;<=>?[\\\\]^_`{|}~\\t\\n'\n",
    "    translate_dict = dict((c, \" \") for c in filters)\n",
    "    translate_map = str.maketrans(translate_dict)\n",
    "    text = text.translate(translate_map)\n",
    "\n",
    "    return text"
   ]
  },
  {
   "cell_type": "markdown",
   "metadata": {},
   "source": [
    "Concerning stopwords, we'll take care of them later on."
   ]
  },
  {
   "cell_type": "markdown",
   "metadata": {},
   "source": [
    "## 3.Vectorization"
   ]
  },
  {
   "cell_type": "markdown",
   "metadata": {},
   "source": [
    "There are various NLP methods that can be usefull for classification, one of them is vectorization. Basically it's a word count per sms that the model will process to distinguish ham from spam. We'll explore later on other options as this method has some drawbacks. Namely the problem with wordcount is that it is subject to the length of the sms and we saw in our EDA that this could be a noteable feature for distinguishing the two classes. Nonetheless we will still try it out and check our results afterwards."
   ]
  },
  {
   "cell_type": "markdown",
   "metadata": {},
   "source": [
    "**A slight modification is necessary just below to switch between vectorization and TF-IDF!**"
   ]
  },
  {
   "cell_type": "code",
   "execution_count": 5,
   "metadata": {},
   "outputs": [
    {
     "name": "stderr",
     "output_type": "stream",
     "text": [
      "/Users/laks/anaconda3/lib/python3.6/site-packages/scipy/stats/stats.py:1713: FutureWarning: Using a non-tuple sequence for multidimensional indexing is deprecated; use `arr[tuple(seq)]` instead of `arr[seq]`. In the future this will be interpreted as an array index, `arr[np.array(seq)]`, which will result either in an error or a different result.\n",
      "  return np.add.reduce(sorted[indexer] * weights, axis=axis) / sumval\n"
     ]
    },
    {
     "data": {
      "image/png": "[encoded data removed]",
      "text/plain": [
       "<Figure size 432x288 with 1 Axes>"
      ]
     },
     "metadata": {
      "needs_background": "light"
     },
     "output_type": "display_data"
    }
   ],
   "source": [
    "#spam:\n",
    "ind = data.loc[:,\"class\"]==1\n",
    "data_spam=data[ind]\n",
    "sns.distplot(data_spam.loc[:,'length'],label=\"Spam\")\n",
    "\n",
    "#not spam:\n",
    "data_ham=data[-ind]\n",
    "ax = sns.distplot(data_ham.loc[:,'length'],label=\"no spam\")\n",
    "plt.legend()\n",
    "plt.title('length of sms')\n",
    "ax.set(xlabel='Number of characters in sms', ylabel='Frequency')\n",
    "plt.show()"
   ]
  },
  {
   "cell_type": "markdown",
   "metadata": {},
   "source": [
    "##### We intialize the vectorizer giving him the paramters we defined for pre processing that we will apply on our test and train data. Note that the stopwords are applied here."
   ]
  },
  {
   "cell_type": "markdown",
   "metadata": {},
   "source": [
    "###  - For simple vectorization:"
   ]
  },
  {
   "cell_type": "markdown",
   "metadata": {},
   "source": [
    "* Initialize the vectorizer"
   ]
  },
  {
   "cell_type": "code",
   "execution_count": 6,
   "metadata": {},
   "outputs": [],
   "source": [
    "vectorizer = CountVectorizer(\n",
    "    stop_words=\"english\",\n",
    "    preprocessor=clean_text)"
   ]
  },
  {
   "cell_type": "markdown",
   "metadata": {},
   "source": [
    "* Train/Test formatting"
   ]
  },
  {
   "cell_type": "markdown",
   "metadata": {},
   "source": [
    "Note that we are not fitting the testing data in the vectorizer!"
   ]
  },
  {
   "cell_type": "code",
   "execution_count": 7,
   "metadata": {},
   "outputs": [],
   "source": [
    "data_train_count = vectorizer.fit_transform(X_train)\n",
    "data_test_count = vectorizer.transform(X_test)"
   ]
  },
  {
   "cell_type": "markdown",
   "metadata": {},
   "source": [
    "### - For TF-IDF scores:"
   ]
  },
  {
   "cell_type": "markdown",
   "metadata": {},
   "source": [
    "* Initialize the vectorizer"
   ]
  },
  {
   "cell_type": "code",
   "execution_count": 8,
   "metadata": {},
   "outputs": [],
   "source": [
    "vectorizer = TfidfVectorizer(\n",
    "    stop_words=\"english\",\n",
    "    preprocessor=clean_text)"
   ]
  },
  {
   "cell_type": "markdown",
   "metadata": {},
   "source": [
    "* Train/Test formatting"
   ]
  },
  {
   "cell_type": "markdown",
   "metadata": {},
   "source": [
    "Note that we are not fitting the testing data in the vectorizer!"
   ]
  },
  {
   "cell_type": "code",
   "execution_count": 9,
   "metadata": {},
   "outputs": [],
   "source": [
    "data_train_tfidf = vectorizer.fit_transform(X_train)\n",
    "data_test_tfidf = vectorizer.transform(X_test)"
   ]
  },
  {
   "cell_type": "markdown",
   "metadata": {},
   "source": [
    "## 4. Building the model"
   ]
  },
  {
   "cell_type": "markdown",
   "metadata": {},
   "source": [
    "The miracles of scikit-learn! "
   ]
  },
  {
   "cell_type": "markdown",
   "metadata": {},
   "source": [
    "#### - Fitting a model for count vectorization"
   ]
  },
  {
   "cell_type": "markdown",
   "metadata": {},
   "source": [
    "* Model fit"
   ]
  },
  {
   "cell_type": "code",
   "execution_count": 10,
   "metadata": {},
   "outputs": [
    {
     "data": {
      "text/plain": [
       "MultinomialNB(alpha=1.0, class_prior=None, fit_prior=True)"
      ]
     },
     "execution_count": 10,
     "metadata": {},
     "output_type": "execute_result"
    }
   ],
   "source": [
    "clf_count = MultinomialNB()\n",
    "clf_count.fit(data_train_count,y_train)"
   ]
  },
  {
   "cell_type": "markdown",
   "metadata": {},
   "source": [
    "* Predicting on test data"
   ]
  },
  {
   "cell_type": "code",
   "execution_count": 11,
   "metadata": {},
   "outputs": [],
   "source": [
    "pred_count = clf_count.predict(data_test_count)\n",
    "pred_count_prob = clf_count.predict_proba(data_test_count)[:,1]"
   ]
  },
  {
   "cell_type": "markdown",
   "metadata": {},
   "source": [
    "#### - Fitting a model for TF-IDF vectorization"
   ]
  },
  {
   "cell_type": "markdown",
   "metadata": {},
   "source": [
    "* Model fit"
   ]
  },
  {
   "cell_type": "code",
   "execution_count": 12,
   "metadata": {},
   "outputs": [
    {
     "data": {
      "text/plain": [
       "MultinomialNB(alpha=1.0, class_prior=None, fit_prior=True)"
      ]
     },
     "execution_count": 12,
     "metadata": {},
     "output_type": "execute_result"
    }
   ],
   "source": [
    "clf_tfidf = MultinomialNB()\n",
    "clf_tfidf.fit(data_train_tfidf,y_train)"
   ]
  },
  {
   "cell_type": "markdown",
   "metadata": {},
   "source": [
    "* Predicting on test data"
   ]
  },
  {
   "cell_type": "code",
   "execution_count": 13,
   "metadata": {},
   "outputs": [],
   "source": [
    "pred_tfidf = clf_tfidf.predict(data_test_tfidf)\n",
    "pred_count_tfidf = clf_tfidf.predict_proba(data_test_tfidf)[:,1]"
   ]
  },
  {
   "cell_type": "markdown",
   "metadata": {},
   "source": [
    "## 5. Model evaluation"
   ]
  },
  {
   "cell_type": "markdown",
   "metadata": {},
   "source": [
    "Accuracy (ratio of correct predicitons) : # correct predictions / # total predictions\n"
   ]
  },
  {
   "cell_type": "markdown",
   "metadata": {},
   "source": [
    "Precision (proportion of messages classified as spam which were spam) : # True positives / # (True positives + False positives)"
   ]
  },
  {
   "cell_type": "markdown",
   "metadata": {},
   "source": [
    "Sensitivity ()"
   ]
  },
  {
   "cell_type": "markdown",
   "metadata": {},
   "source": [
    "#### - Count vectorization results"
   ]
  },
  {
   "cell_type": "code",
   "execution_count": 14,
   "metadata": {},
   "outputs": [
    {
     "name": "stdout",
     "output_type": "stream",
     "text": [
      "\n",
      "\n",
      "Using count vectorization\n",
      "\n",
      "\n",
      "Accuracy : 0.989237668161435\n",
      "Precision : 0.9647887323943662\n",
      "Sensitivity : 0.9513888888888888\n"
     ]
    }
   ],
   "source": [
    "print(\"\\n\")\n",
    "print(\"Using count vectorization\")\n",
    "print(\"\\n\")\n",
    "acc_count = accuracy_score(y_test,pred_count)\n",
    "prec_count = precision_score(y_test, pred_count)\n",
    "sens_count = recall_score(y_test,pred_count)\n",
    "\n",
    "print(\"Accuracy :\", acc_count)\n",
    "print(\"Precision :\", prec_count)\n",
    "print(\"Sensitivity :\", sens_count)"
   ]
  },
  {
   "cell_type": "code",
   "execution_count": 15,
   "metadata": {},
   "outputs": [
    {
     "name": "stdout",
     "output_type": "stream",
     "text": [
      "We correctly classified 137 sms as spam\n",
      "\n",
      "\n",
      "We correctly classified 966 sms as not spam\n",
      "\n",
      "\n",
      "We inccorrectly classified 5 sms as spam\n",
      "\n",
      "\n",
      "We inccorrectly classified 7 sms as not spam\n",
      "\n",
      "\n"
     ]
    },
    {
     "data": {
      "image/png": "[encoded data removed]",
      "text/plain": [
       "<Figure size 432x288 with 1 Axes>"
      ]
     },
     "metadata": {
      "needs_background": "light"
     },
     "output_type": "display_data"
    }
   ],
   "source": [
    "confusion = metrics.confusion_matrix(y_test, pred_count)\n",
    "sns.heatmap(confusion, annot = True, cbar = False, square = True, cmap = 'Blues', fmt = 'g', linewidths = 0.5)\n",
    "\n",
    "TP = confusion[1, 1]\n",
    "TN = confusion[0, 0]\n",
    "FP = confusion[0, 1]\n",
    "FN = confusion[1, 0]\n",
    "\n",
    "print(\"We correctly classified\",TP,\"sms as spam\")\n",
    "print(\"\\n\")\n",
    "print(\"We correctly classified\",TN,\"sms as not spam\")\n",
    "print(\"\\n\")\n",
    "print(\"We inccorrectly classified\",FP,\"sms as spam\")\n",
    "print(\"\\n\")\n",
    "print(\"We inccorrectly classified\",FN,\"sms as not spam\")\n",
    "print(\"\\n\")"
   ]
  },
  {
   "cell_type": "code",
   "execution_count": 16,
   "metadata": {},
   "outputs": [
    {
     "name": "stdout",
     "output_type": "stream",
     "text": [
      "AUC score : 0.9965671129419842\n",
      "\n",
      "\n"
     ]
    },
    {
     "data": {
      "image/png": "[encoded data removed]",
      "text/plain": [
       "<Figure size 432x288 with 1 Axes>"
      ]
     },
     "metadata": {
      "needs_background": "light"
     },
     "output_type": "display_data"
    }
   ],
   "source": [
    "fpr, tpr, thresholds = metrics.roc_curve(y_test,pred_count_prob)\n",
    "\n",
    "plt.plot(fpr, tpr)\n",
    "plt.xlim([-0.1, 1.1])\n",
    "plt.ylim([-0.1, 1.1])\n",
    "plt.rcParams['font.size'] = 12\n",
    "plt.title('ROC curve for spam classifier using count vectorization')\n",
    "plt.xlabel('False Positive Rate (1 - Specificity)')\n",
    "plt.ylabel('True Positive Rate (Sensitivity)')\n",
    "plt.grid(True)\n",
    "print(\"AUC score :\",metrics.roc_auc_score(y_test, pred_count_prob))\n",
    "print(\"\\n\")"
   ]
  },
  {
   "cell_type": "markdown",
   "metadata": {},
   "source": [
    "#### - TF-IDF vectorization results"
   ]
  },
  {
   "cell_type": "code",
   "execution_count": 17,
   "metadata": {},
   "outputs": [
    {
     "name": "stdout",
     "output_type": "stream",
     "text": [
      "\n",
      "\n",
      "Using TF-IDF vectorization\n",
      "\n",
      "\n",
      "Accuracy : 0.9713004484304932\n",
      "Precision : 1.0\n",
      "Sensitivity : 0.7777777777777778\n"
     ]
    }
   ],
   "source": [
    "print(\"\\n\")\n",
    "print(\"Using TF-IDF vectorization\")\n",
    "print(\"\\n\")\n",
    "\n",
    "acc_tfidf = accuracy_score(y_test,pred_tfidf)\n",
    "prec_tfidf = precision_score(y_test, pred_tfidf)\n",
    "sens_tfidf = recall_score(y_test,pred_tfidf)\n",
    "\n",
    "print(\"Accuracy :\", acc_tfidf)\n",
    "print(\"Precision :\", prec_tfidf)\n",
    "print(\"Sensitivity :\", sens_tfidf)"
   ]
  },
  {
   "cell_type": "code",
   "execution_count": 18,
   "metadata": {},
   "outputs": [
    {
     "name": "stdout",
     "output_type": "stream",
     "text": [
      "We correctly classified 112 sms as spam\n",
      "\n",
      "\n",
      "We correctly classified  971  sms as not spam\n",
      "\n",
      "\n",
      "We inccorrectly classified  0  sms as spam\n",
      "\n",
      "\n",
      "We inccorrectly classified  32  sms as not spam\n",
      "\n",
      "\n"
     ]
    },
    {
     "data": {
      "image/png": "[encoded data removed]",
      "text/plain": [
       "<Figure size 432x288 with 1 Axes>"
      ]
     },
     "metadata": {
      "needs_background": "light"
     },
     "output_type": "display_data"
    }
   ],
   "source": [
    "confusion = metrics.confusion_matrix(y_test, pred_tfidf)\n",
    "sns.heatmap(confusion, annot = True, cbar = False, square = True, cmap = 'Blues', fmt = 'g', linewidths = 0.5)\n",
    "\n",
    "TP = confusion[1, 1]\n",
    "TN = confusion[0, 0]\n",
    "FP = confusion[0, 1]\n",
    "FN = confusion[1, 0]\n",
    "\n",
    "print(\"We correctly classified\",TP,\"sms as spam\")\n",
    "print(\"\\n\")\n",
    "print(\"We correctly classified \",TN,\" sms as not spam\")\n",
    "print(\"\\n\")\n",
    "print(\"We inccorrectly classified \",FP,\" sms as spam\")\n",
    "print(\"\\n\")\n",
    "print(\"We inccorrectly classified \",FN,\" sms as not spam\")\n",
    "print(\"\\n\")"
   ]
  },
  {
   "cell_type": "code",
   "execution_count": 19,
   "metadata": {},
   "outputs": [
    {
     "name": "stdout",
     "output_type": "stream",
     "text": [
      "AUC score : 0.994886428653164\n",
      "\n",
      "\n"
     ]
    },
    {
     "data": {
      "image/png": "[encoded data removed]",
      "text/plain": [
       "<Figure size 432x288 with 1 Axes>"
      ]
     },
     "metadata": {
      "needs_background": "light"
     },
     "output_type": "display_data"
    }
   ],
   "source": [
    "fpr, tpr, thresholds = metrics.roc_curve(y_test,pred_count_tfidf)\n",
    "\n",
    "plt.plot(fpr, tpr)\n",
    "plt.xlim([-0.1, 1.1])\n",
    "plt.ylim([-0.1, 1.1])\n",
    "plt.rcParams['font.size'] = 12\n",
    "plt.title('ROC curve for spam classifier using TF-IDF vectorization')\n",
    "plt.xlabel('False Positive Rate (1 - Specificity)')\n",
    "plt.ylabel('True Positive Rate (Sensitivity)')\n",
    "plt.grid(True)\n",
    "print(\"AUC score :\",metrics.roc_auc_score(y_test, pred_count_tfidf))\n",
    "print(\"\\n\")"
   ]
  },
  {
   "cell_type": "code",
   "execution_count": 20,
   "metadata": {},
   "outputs": [
    {
     "name": "stdout",
     "output_type": "stream",
     "text": [
      "you can merge!\n"
     ]
    }
   ],
   "source": [
    "print(\"you can merge!\")"
   ]
  }
 ],
 "metadata": {
  "kernelspec": {
   "display_name": "Python 3",
   "language": "python",
   "name": "python3"
  },
  "language_info": {
   "codemirror_mode": {
    "name": "ipython",
    "version": 3
   },
   "file_extension": ".py",
   "mimetype": "text/x-python",
   "name": "python",
   "nbconvert_exporter": "python",
   "pygments_lexer": "ipython3",
   "version": "3.6.8"
  }
 },
 "nbformat": 4,
 "nbformat_minor": 2
}
