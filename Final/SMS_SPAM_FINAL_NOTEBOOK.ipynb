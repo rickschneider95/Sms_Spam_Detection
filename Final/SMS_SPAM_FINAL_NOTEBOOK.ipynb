{
 "cells": [
  {
   "cell_type": "markdown",
   "metadata": {},
   "source": [
    "# 0. Table of content"
   ]
  },
  {
   "cell_type": "markdown",
   "metadata": {},
   "source": [
    "1. Introduction and problem statement\n",
    "2. Explore the data (before preprocessing)\n",
    "3. Data Cleaning and additional analytics (after preprocessing):\n",
    "4. Naïve Bayes Classifier\n",
    "5. Extreme Gradient Boosting (XGBoost) Classifier"
   ]
  },
  {
   "cell_type": "markdown",
   "metadata": {},
   "source": [
    "# 1. Introduction and problem statement"
   ]
  },
  {
   "cell_type": "markdown",
   "metadata": {},
   "source": [
    "- Problem: SMS that we get are not always from family & friends --> Spam\n",
    "- Solution: develop a system that filters out spam SMS\n",
    "\n",
    "\n",
    "- How can we achieve a filter with a high accuracy?\n",
    "    - data set with 5600 actual SMS (800 Spam and 4800 actual SMS)\n",
    "    - analyse and visualize data to understand patterns\n",
    "    - build prediction model that is trained on data\n",
    "    - evaluate on train and test data\n",
    "\n",
    "\n",
    "- Challenges:\n",
    "    - High accuracy\n",
    "    - No False Positives -> better to have some spam SMS than to filter out actual SMS\n",
    "    - Unclean data set: SMS contain a lot of mistakes\n",
    "    "
   ]
  },
  {
   "cell_type": "code",
   "execution_count": 1,
   "metadata": {},
   "outputs": [],
   "source": [
    "#load libraries\n",
    "import pandas as pd\n",
    "import matplotlib.pyplot as plt\n",
    "import seaborn as sns\n",
    "import re\n",
    "import xgboost as xgb\n",
    "import numpy as np\n",
    "\n",
    "import nltk\n",
    "from nltk import word_tokenize\n",
    "from nltk.tokenize import word_tokenize\n",
    "from nltk.corpus import stopwords\n",
    "from nltk.stem.wordnet import WordNetLemmatizer\n",
    "\n",
    "from sklearn.feature_extraction.text import CountVectorizer\n",
    "from sklearn.feature_extraction.text import TfidfVectorizer\n",
    "from sklearn.model_selection import train_test_split\n",
    "from sklearn.naive_bayes import MultinomialNB\n",
    "from sklearn import metrics\n",
    "from sklearn.metrics import accuracy_score, precision_score, recall_score, confusion_matrix\n",
    "from sklearn.metrics import roc_curve, auc\n",
    "from sklearn.metrics import log_loss\n",
    "from sklearn.metrics import roc_auc_score\n",
    "\n",
    "from collections import Counter\n"
   ]
  },
  {
   "cell_type": "markdown",
   "metadata": {},
   "source": [
    "# 2. Explore the data (before preprocessing)"
   ]
  },
  {
   "cell_type": "markdown",
   "metadata": {},
   "source": [
    "### 2.1. Load in the data:"
   ]
  },
  {
   "cell_type": "code",
   "execution_count": 2,
   "metadata": {},
   "outputs": [
    {
     "data": {
      "text/html": [
       "<div>\n",
       "<style scoped>\n",
       "    .dataframe tbody tr th:only-of-type {\n",
       "        vertical-align: middle;\n",
       "    }\n",
       "\n",
       "    .dataframe tbody tr th {\n",
       "        vertical-align: top;\n",
       "    }\n",
       "\n",
       "    .dataframe thead th {\n",
       "        text-align: right;\n",
       "    }\n",
       "</style>\n",
       "<table border=\"1\" class=\"dataframe\">\n",
       "  <thead>\n",
       "    <tr style=\"text-align: right;\">\n",
       "      <th></th>\n",
       "      <th>class</th>\n",
       "      <th>sms</th>\n",
       "    </tr>\n",
       "  </thead>\n",
       "  <tbody>\n",
       "    <tr>\n",
       "      <th>0</th>\n",
       "      <td>0</td>\n",
       "      <td>Go until jurong point, crazy.. Available only ...</td>\n",
       "    </tr>\n",
       "    <tr>\n",
       "      <th>1</th>\n",
       "      <td>0</td>\n",
       "      <td>Ok lar... Joking wif u oni...</td>\n",
       "    </tr>\n",
       "    <tr>\n",
       "      <th>2</th>\n",
       "      <td>1</td>\n",
       "      <td>Free entry in 2 a wkly comp to win FA Cup fina...</td>\n",
       "    </tr>\n",
       "    <tr>\n",
       "      <th>3</th>\n",
       "      <td>0</td>\n",
       "      <td>U dun say so early hor... U c already then say...</td>\n",
       "    </tr>\n",
       "    <tr>\n",
       "      <th>4</th>\n",
       "      <td>0</td>\n",
       "      <td>Nah I don't think he goes to usf, he lives aro...</td>\n",
       "    </tr>\n",
       "  </tbody>\n",
       "</table>\n",
       "</div>"
      ],
      "text/plain": [
       "  class                                                sms\n",
       "0     0  Go until jurong point, crazy.. Available only ...\n",
       "1     0                      Ok lar... Joking wif u oni...\n",
       "2     1  Free entry in 2 a wkly comp to win FA Cup fina...\n",
       "3     0  U dun say so early hor... U c already then say...\n",
       "4     0  Nah I don't think he goes to usf, he lives aro..."
      ]
     },
     "execution_count": 2,
     "metadata": {},
     "output_type": "execute_result"
    }
   ],
   "source": [
    "#load in the text file:\n",
    "with open(\"SMSSpamCollection.txt\") as f:\n",
    "    content = f.readlines()\n",
    "#initialize emty list that later will be transformed to final data frame:\n",
    "l = []\n",
    "#loop trhough lines, get rid of new line signs and save in list:\n",
    "for line in content:\n",
    "    line = line.strip(\"\\n\")\n",
    "    c = line.split(\"\\t\")\n",
    "    l.append(c)\n",
    "#transform list to df:\n",
    "df = pd.DataFrame.from_records(l)\n",
    "#rename columns:\n",
    "df.columns = [\"class\",\"sms\"]\n",
    "#change ham to 0 and spam to 1\n",
    "ind = df.loc[:,\"class\"]==\"ham\"\n",
    "df.loc[ind,\"class\"] = 0\n",
    "df.loc[-ind,\"class\"] = 1\n",
    "#print the head of the df:\n",
    "df.head(5)\n"
   ]
  },
  {
   "cell_type": "markdown",
   "metadata": {},
   "source": [
    "### 2.2) Data Analysis before cleaning"
   ]
  },
  {
   "cell_type": "markdown",
   "metadata": {},
   "source": [
    "- Before cleaning the data, analyse following characteristics:\n",
    "    - Uniqueness of SMS\n",
    "    - Length of SMS\n",
    "    - Presence of stopwors\n",
    "    - Presence of special characters\n",
    "    - Presence of hyperlink\n",
    "    - Presence of phone numbers\n",
    "    - Count of upper-case characters\n",
    "    - Presence of smileys"
   ]
  },
  {
   "cell_type": "code",
   "execution_count": 3,
   "metadata": {},
   "outputs": [
    {
     "name": "stdout",
     "output_type": "stream",
     "text": [
      "(5574, 2)\n",
      "False\n"
     ]
    },
    {
     "data": {
      "text/plain": [
       "<matplotlib.axes._subplots.AxesSubplot at 0x1533b521940>"
      ]
     },
     "execution_count": 3,
     "metadata": {},
     "output_type": "execute_result"
    },
    {
     "data": {
      "image/png": "[encoded data removed]",
      "text/plain": [
       "<Figure size 432x288 with 1 Axes>"
      ]
     },
     "metadata": {
      "needs_background": "light"
     },
     "output_type": "display_data"
    }
   ],
   "source": [
    "print(df.shape)\n",
    "#check for Nas:\n",
    "print(df.isnull().values.any())\n",
    "#generate a count plot:\n",
    "sns.countplot(x=\"class\",data=df)\n"
   ]
  },
  {
   "cell_type": "markdown",
   "metadata": {},
   "source": [
    "The df has 5574 rows and 2 columns (i.e. is it a spam or not and the content of the sms). The data set contains no NA's, so the reading of the file was successful. We can see that the data set is unbalanced with +/- 4800 sms being not spam, and around 800 sms being spam."
   ]
  },
  {
   "cell_type": "markdown",
   "metadata": {},
   "source": [
    "Lets check for doubles in the data:"
   ]
  },
  {
   "cell_type": "code",
   "execution_count": 4,
   "metadata": {},
   "outputs": [
    {
     "name": "stdout",
     "output_type": "stream",
     "text": [
      "Number of SMS: 5574\n",
      "Number of unique SMS:  5171\n"
     ]
    }
   ],
   "source": [
    "print('Number of SMS:', df.sms.count())\n",
    "print('Number of unique SMS: ', df.sms.nunique())\n"
   ]
  },
  {
   "cell_type": "code",
   "execution_count": 5,
   "metadata": {},
   "outputs": [
    {
     "data": {
      "image/png": "[encoded data removed]",
      "text/plain": [
       "<Figure size 432x288 with 1 Axes>"
      ]
     },
     "metadata": {
      "needs_background": "light"
     },
     "output_type": "display_data"
    }
   ],
   "source": [
    "#Are the non-unique sms rather spam?\n",
    "\n",
    "#set index to group on indexes:\n",
    "df.set_index(['class','sms'],inplace=True)\n",
    "#group by and get a count column:\n",
    "df2 = pd.DataFrame(df.groupby([\"sms\",\"class\"]).size())\n",
    "df2.reset_index(inplace=True)\n",
    "#get index of count larger than 1:\n",
    "i = df2.iloc[:,2] > 1\n",
    "df2.columns=[\"sms\",\"class\",\"count\"]\n",
    "df2 = df2[i]\n",
    "#generate count plot:\n",
    "sns.countplot(x=\"count\",hue=\"class\",data=df2)\n",
    "plt.title('count commets that appear more than once per class')\n",
    "plt.show()\n",
    "\n",
    "\n",
    "#reset the index for the main data frame:\n",
    "df.reset_index(inplace=True)"
   ]
  },
  {
   "cell_type": "markdown",
   "metadata": {},
   "source": [
    "### 2.2.1. SMS Length"
   ]
  },
  {
   "cell_type": "markdown",
   "metadata": {},
   "source": [
    "Lets check the distribution of the length of SMS, once in general, then for spams and not spams and see if we can get a conclusion out of this:"
   ]
  },
  {
   "cell_type": "code",
   "execution_count": 6,
   "metadata": {},
   "outputs": [
    {
     "name": "stderr",
     "output_type": "stream",
     "text": [
      "C:\\Users\\rick\\Anaconda3\\lib\\site-packages\\scipy\\stats\\stats.py:1713: FutureWarning: Using a non-tuple sequence for multidimensional indexing is deprecated; use `arr[tuple(seq)]` instead of `arr[seq]`. In the future this will be interpreted as an array index, `arr[np.array(seq)]`, which will result either in an error or a different result.\n",
      "  return np.add.reduce(sorted[indexer] * weights, axis=axis) / sumval\n"
     ]
    },
    {
     "data": {
      "image/png": "[encoded data removed]",
      "text/plain": [
       "<Figure size 432x288 with 1 Axes>"
      ]
     },
     "metadata": {
      "needs_background": "light"
     },
     "output_type": "display_data"
    },
    {
     "data": {
      "image/png": "[encoded data removed]",
      "text/plain": [
       "<Figure size 432x288 with 1 Axes>"
      ]
     },
     "metadata": {
      "needs_background": "light"
     },
     "output_type": "display_data"
    }
   ],
   "source": [
    "#distribution of comment lengths:\n",
    "\n",
    "#whole data set:\n",
    "sns.distplot(df['sms'].apply(len))\n",
    "plt.title('Characters distributions for whole data set')\n",
    "plt.show()\n",
    "\n",
    "#spam:\n",
    "ind = df.loc[:,\"class\"]==1\n",
    "df_spam=df[ind]\n",
    "sns.distplot(df_spam['sms'].apply(len),label=\"Spam\")\n",
    "#not spam:\n",
    "df_not_spam=df[-ind]\n",
    "ax = sns.distplot(df_not_spam['sms'].apply(len),label=\"no spam\")\n",
    "plt.legend()\n",
    "plt.title('Characters distributions for spam and not spam')\n",
    "ax.set(xlabel='Number of characters', ylabel='Frequency')\n",
    "plt.show()\n",
    "\n"
   ]
  },
  {
   "cell_type": "markdown",
   "metadata": {},
   "source": [
    "We can observe that the spam sms are longer on average, so it might be interesting to include the length of the sms as a feature."
   ]
  },
  {
   "cell_type": "code",
   "execution_count": 7,
   "metadata": {},
   "outputs": [
    {
     "data": {
      "text/html": [
       "<div>\n",
       "<style scoped>\n",
       "    .dataframe tbody tr th:only-of-type {\n",
       "        vertical-align: middle;\n",
       "    }\n",
       "\n",
       "    .dataframe tbody tr th {\n",
       "        vertical-align: top;\n",
       "    }\n",
       "\n",
       "    .dataframe thead th {\n",
       "        text-align: right;\n",
       "    }\n",
       "</style>\n",
       "<table border=\"1\" class=\"dataframe\">\n",
       "  <thead>\n",
       "    <tr style=\"text-align: right;\">\n",
       "      <th></th>\n",
       "      <th>class</th>\n",
       "      <th>sms</th>\n",
       "      <th>length</th>\n",
       "    </tr>\n",
       "  </thead>\n",
       "  <tbody>\n",
       "    <tr>\n",
       "      <th>0</th>\n",
       "      <td>0</td>\n",
       "      <td>Go until jurong point, crazy.. Available only ...</td>\n",
       "      <td>111</td>\n",
       "    </tr>\n",
       "    <tr>\n",
       "      <th>1</th>\n",
       "      <td>0</td>\n",
       "      <td>Ok lar... Joking wif u oni...</td>\n",
       "      <td>29</td>\n",
       "    </tr>\n",
       "    <tr>\n",
       "      <th>2</th>\n",
       "      <td>1</td>\n",
       "      <td>Free entry in 2 a wkly comp to win FA Cup fina...</td>\n",
       "      <td>155</td>\n",
       "    </tr>\n",
       "    <tr>\n",
       "      <th>3</th>\n",
       "      <td>0</td>\n",
       "      <td>U dun say so early hor... U c already then say...</td>\n",
       "      <td>49</td>\n",
       "    </tr>\n",
       "    <tr>\n",
       "      <th>4</th>\n",
       "      <td>0</td>\n",
       "      <td>Nah I don't think he goes to usf, he lives aro...</td>\n",
       "      <td>61</td>\n",
       "    </tr>\n",
       "    <tr>\n",
       "      <th>5</th>\n",
       "      <td>1</td>\n",
       "      <td>FreeMsg Hey there darling it's been 3 week's n...</td>\n",
       "      <td>148</td>\n",
       "    </tr>\n",
       "    <tr>\n",
       "      <th>6</th>\n",
       "      <td>0</td>\n",
       "      <td>Even my brother is not like to speak with me. ...</td>\n",
       "      <td>77</td>\n",
       "    </tr>\n",
       "    <tr>\n",
       "      <th>7</th>\n",
       "      <td>0</td>\n",
       "      <td>As per your request 'Melle Melle (Oru Minnamin...</td>\n",
       "      <td>160</td>\n",
       "    </tr>\n",
       "    <tr>\n",
       "      <th>8</th>\n",
       "      <td>1</td>\n",
       "      <td>WINNER!! As a valued network customer you have...</td>\n",
       "      <td>158</td>\n",
       "    </tr>\n",
       "    <tr>\n",
       "      <th>9</th>\n",
       "      <td>1</td>\n",
       "      <td>Had your mobile 11 months or more? U R entitle...</td>\n",
       "      <td>154</td>\n",
       "    </tr>\n",
       "  </tbody>\n",
       "</table>\n",
       "</div>"
      ],
      "text/plain": [
       "   class                                                sms  length\n",
       "0      0  Go until jurong point, crazy.. Available only ...     111\n",
       "1      0                      Ok lar... Joking wif u oni...      29\n",
       "2      1  Free entry in 2 a wkly comp to win FA Cup fina...     155\n",
       "3      0  U dun say so early hor... U c already then say...      49\n",
       "4      0  Nah I don't think he goes to usf, he lives aro...      61\n",
       "5      1  FreeMsg Hey there darling it's been 3 week's n...     148\n",
       "6      0  Even my brother is not like to speak with me. ...      77\n",
       "7      0  As per your request 'Melle Melle (Oru Minnamin...     160\n",
       "8      1  WINNER!! As a valued network customer you have...     158\n",
       "9      1  Had your mobile 11 months or more? U R entitle...     154"
      ]
     },
     "execution_count": 7,
     "metadata": {},
     "output_type": "execute_result"
    }
   ],
   "source": [
    "df3 = df.copy()\n",
    "df3['length'] = df3['sms'].apply(len)\n",
    "df3.head(10)"
   ]
  },
  {
   "cell_type": "markdown",
   "metadata": {},
   "source": [
    "### 2.2.2. Stopword presence"
   ]
  },
  {
   "cell_type": "markdown",
   "metadata": {},
   "source": [
    "Another idea is the presence of stopwords, there could be a repetition of 'you' in spam messages as it would be an oriented commercial sms for example... "
   ]
  },
  {
   "cell_type": "markdown",
   "metadata": {},
   "source": [
    "It's also to check if we can clean the sms later on with stopwords. "
   ]
  },
  {
   "cell_type": "code",
   "execution_count": 8,
   "metadata": {},
   "outputs": [
    {
     "data": {
      "text/html": [
       "<div>\n",
       "<style scoped>\n",
       "    .dataframe tbody tr th:only-of-type {\n",
       "        vertical-align: middle;\n",
       "    }\n",
       "\n",
       "    .dataframe tbody tr th {\n",
       "        vertical-align: top;\n",
       "    }\n",
       "\n",
       "    .dataframe thead th {\n",
       "        text-align: right;\n",
       "    }\n",
       "</style>\n",
       "<table border=\"1\" class=\"dataframe\">\n",
       "  <thead>\n",
       "    <tr style=\"text-align: right;\">\n",
       "      <th></th>\n",
       "      <th>class</th>\n",
       "      <th>sms</th>\n",
       "      <th>sw_count</th>\n",
       "    </tr>\n",
       "  </thead>\n",
       "  <tbody>\n",
       "    <tr>\n",
       "      <th>0</th>\n",
       "      <td>0</td>\n",
       "      <td>Go until jurong point, crazy.. Available only ...</td>\n",
       "      <td>32</td>\n",
       "    </tr>\n",
       "    <tr>\n",
       "      <th>1</th>\n",
       "      <td>0</td>\n",
       "      <td>Ok lar... Joking wif u oni...</td>\n",
       "      <td>6</td>\n",
       "    </tr>\n",
       "    <tr>\n",
       "      <th>2</th>\n",
       "      <td>1</td>\n",
       "      <td>Free entry in 2 a wkly comp to win FA Cup fina...</td>\n",
       "      <td>43</td>\n",
       "    </tr>\n",
       "    <tr>\n",
       "      <th>3</th>\n",
       "      <td>0</td>\n",
       "      <td>U dun say so early hor... U c already then say...</td>\n",
       "      <td>17</td>\n",
       "    </tr>\n",
       "    <tr>\n",
       "      <th>4</th>\n",
       "      <td>0</td>\n",
       "      <td>Nah I don't think he goes to usf, he lives aro...</td>\n",
       "      <td>18</td>\n",
       "    </tr>\n",
       "  </tbody>\n",
       "</table>\n",
       "</div>"
      ],
      "text/plain": [
       "   class                                                sms  sw_count\n",
       "0      0  Go until jurong point, crazy.. Available only ...        32\n",
       "1      0                      Ok lar... Joking wif u oni...         6\n",
       "2      1  Free entry in 2 a wkly comp to win FA Cup fina...        43\n",
       "3      0  U dun say so early hor... U c already then say...        17\n",
       "4      0  Nah I don't think he goes to usf, he lives aro...        18"
      ]
     },
     "execution_count": 8,
     "metadata": {},
     "output_type": "execute_result"
    }
   ],
   "source": [
    "#SMS special characters count \n",
    "# creating a list with all reviews\n",
    "sms = df.sms.tolist()\n",
    "\n",
    "# creating special characters list\n",
    "stopW = stopwords.words('english')\n",
    "\n",
    "#empty list to save counts:\n",
    "count_list = []\n",
    "for s in sms:\n",
    "    count = 0\n",
    "    for c in s:\n",
    "        if c in stopW :\n",
    "            count = count + 1\n",
    "    count_list.append(count)\n",
    "    \n",
    "#transform to series and add to df2 (which is a copy of df):\n",
    "count_list = pd.Series(count_list)\n",
    "\n",
    "df2 = df.copy()\n",
    "\n",
    "df2['sw_count'] = count_list\n",
    "df2.head()"
   ]
  },
  {
   "cell_type": "code",
   "execution_count": 9,
   "metadata": {},
   "outputs": [
    {
     "data": {
      "image/png": "[encoded data removed]",
      "text/plain": [
       "<Figure size 432x288 with 1 Axes>"
      ]
     },
     "metadata": {
      "needs_background": "light"
     },
     "output_type": "display_data"
    }
   ],
   "source": [
    "#spam:\n",
    "ind = df2.loc[:,\"class\"]==1\n",
    "df_spam=df2[ind]\n",
    "sns.distplot(df_spam.loc[:,'sw_count'],label=\"Spam\")\n",
    "\n",
    "#not spam:\n",
    "df_not_spam=df2[-ind]\n",
    "ax = sns.distplot(df_not_spam.loc[:,'sw_count'],label=\"no spam\")\n",
    "plt.legend()\n",
    "plt.title('Stopword count in spam vs ham')\n",
    "ax.set(xlabel='Average of stopwords', ylabel='Frequency')\n",
    "plt.show()"
   ]
  },
  {
   "cell_type": "code",
   "execution_count": 10,
   "metadata": {},
   "outputs": [
    {
     "data": {
      "text/html": [
       "<div>\n",
       "<style scoped>\n",
       "    .dataframe tbody tr th:only-of-type {\n",
       "        vertical-align: middle;\n",
       "    }\n",
       "\n",
       "    .dataframe tbody tr th {\n",
       "        vertical-align: top;\n",
       "    }\n",
       "\n",
       "    .dataframe thead th {\n",
       "        text-align: right;\n",
       "    }\n",
       "</style>\n",
       "<table border=\"1\" class=\"dataframe\">\n",
       "  <thead>\n",
       "    <tr style=\"text-align: right;\">\n",
       "      <th></th>\n",
       "      <th>class</th>\n",
       "      <th>sms</th>\n",
       "      <th>length</th>\n",
       "      <th>sw_count</th>\n",
       "    </tr>\n",
       "  </thead>\n",
       "  <tbody>\n",
       "    <tr>\n",
       "      <th>0</th>\n",
       "      <td>0</td>\n",
       "      <td>Go until jurong point, crazy.. Available only ...</td>\n",
       "      <td>111</td>\n",
       "      <td>32</td>\n",
       "    </tr>\n",
       "    <tr>\n",
       "      <th>1</th>\n",
       "      <td>0</td>\n",
       "      <td>Ok lar... Joking wif u oni...</td>\n",
       "      <td>29</td>\n",
       "      <td>6</td>\n",
       "    </tr>\n",
       "    <tr>\n",
       "      <th>2</th>\n",
       "      <td>1</td>\n",
       "      <td>Free entry in 2 a wkly comp to win FA Cup fina...</td>\n",
       "      <td>155</td>\n",
       "      <td>43</td>\n",
       "    </tr>\n",
       "    <tr>\n",
       "      <th>3</th>\n",
       "      <td>0</td>\n",
       "      <td>U dun say so early hor... U c already then say...</td>\n",
       "      <td>49</td>\n",
       "      <td>17</td>\n",
       "    </tr>\n",
       "    <tr>\n",
       "      <th>4</th>\n",
       "      <td>0</td>\n",
       "      <td>Nah I don't think he goes to usf, he lives aro...</td>\n",
       "      <td>61</td>\n",
       "      <td>18</td>\n",
       "    </tr>\n",
       "    <tr>\n",
       "      <th>5</th>\n",
       "      <td>1</td>\n",
       "      <td>FreeMsg Hey there darling it's been 3 week's n...</td>\n",
       "      <td>148</td>\n",
       "      <td>41</td>\n",
       "    </tr>\n",
       "    <tr>\n",
       "      <th>6</th>\n",
       "      <td>0</td>\n",
       "      <td>Even my brother is not like to speak with me. ...</td>\n",
       "      <td>77</td>\n",
       "      <td>29</td>\n",
       "    </tr>\n",
       "    <tr>\n",
       "      <th>7</th>\n",
       "      <td>0</td>\n",
       "      <td>As per your request 'Melle Melle (Oru Minnamin...</td>\n",
       "      <td>160</td>\n",
       "      <td>42</td>\n",
       "    </tr>\n",
       "    <tr>\n",
       "      <th>8</th>\n",
       "      <td>1</td>\n",
       "      <td>WINNER!! As a valued network customer you have...</td>\n",
       "      <td>158</td>\n",
       "      <td>40</td>\n",
       "    </tr>\n",
       "    <tr>\n",
       "      <th>9</th>\n",
       "      <td>1</td>\n",
       "      <td>Had your mobile 11 months or more? U R entitle...</td>\n",
       "      <td>154</td>\n",
       "      <td>50</td>\n",
       "    </tr>\n",
       "  </tbody>\n",
       "</table>\n",
       "</div>"
      ],
      "text/plain": [
       "   class                                                sms  length  sw_count\n",
       "0      0  Go until jurong point, crazy.. Available only ...     111        32\n",
       "1      0                      Ok lar... Joking wif u oni...      29         6\n",
       "2      1  Free entry in 2 a wkly comp to win FA Cup fina...     155        43\n",
       "3      0  U dun say so early hor... U c already then say...      49        17\n",
       "4      0  Nah I don't think he goes to usf, he lives aro...      61        18\n",
       "5      1  FreeMsg Hey there darling it's been 3 week's n...     148        41\n",
       "6      0  Even my brother is not like to speak with me. ...      77        29\n",
       "7      0  As per your request 'Melle Melle (Oru Minnamin...     160        42\n",
       "8      1  WINNER!! As a valued network customer you have...     158        40\n",
       "9      1  Had your mobile 11 months or more? U R entitle...     154        50"
      ]
     },
     "execution_count": 10,
     "metadata": {},
     "output_type": "execute_result"
    }
   ],
   "source": [
    "df3['sw_count'] = count_list\n",
    "df3.head(10)"
   ]
  },
  {
   "cell_type": "markdown",
   "metadata": {},
   "source": [
    "### 2.2.3. Special Characters count"
   ]
  },
  {
   "cell_type": "markdown",
   "metadata": {},
   "source": [
    "Same idea as numerics in text, we could expect a lot of exclamation points, question marks etc. \n",
    "This special characters list can be modified to find the pattern that distinguishes between spam and no spam, like using $ or a lot of ! and ?"
   ]
  },
  {
   "cell_type": "code",
   "execution_count": 11,
   "metadata": {},
   "outputs": [
    {
     "data": {
      "text/html": [
       "<div>\n",
       "<style scoped>\n",
       "    .dataframe tbody tr th:only-of-type {\n",
       "        vertical-align: middle;\n",
       "    }\n",
       "\n",
       "    .dataframe tbody tr th {\n",
       "        vertical-align: top;\n",
       "    }\n",
       "\n",
       "    .dataframe thead th {\n",
       "        text-align: right;\n",
       "    }\n",
       "</style>\n",
       "<table border=\"1\" class=\"dataframe\">\n",
       "  <thead>\n",
       "    <tr style=\"text-align: right;\">\n",
       "      <th></th>\n",
       "      <th>class</th>\n",
       "      <th>sms</th>\n",
       "      <th>sc_count</th>\n",
       "    </tr>\n",
       "  </thead>\n",
       "  <tbody>\n",
       "    <tr>\n",
       "      <th>0</th>\n",
       "      <td>0</td>\n",
       "      <td>Go until jurong point, crazy.. Available only ...</td>\n",
       "      <td>8</td>\n",
       "    </tr>\n",
       "    <tr>\n",
       "      <th>1</th>\n",
       "      <td>0</td>\n",
       "      <td>Ok lar... Joking wif u oni...</td>\n",
       "      <td>6</td>\n",
       "    </tr>\n",
       "    <tr>\n",
       "      <th>2</th>\n",
       "      <td>1</td>\n",
       "      <td>Free entry in 2 a wkly comp to win FA Cup fina...</td>\n",
       "      <td>1</td>\n",
       "    </tr>\n",
       "    <tr>\n",
       "      <th>3</th>\n",
       "      <td>0</td>\n",
       "      <td>U dun say so early hor... U c already then say...</td>\n",
       "      <td>6</td>\n",
       "    </tr>\n",
       "    <tr>\n",
       "      <th>4</th>\n",
       "      <td>0</td>\n",
       "      <td>Nah I don't think he goes to usf, he lives aro...</td>\n",
       "      <td>0</td>\n",
       "    </tr>\n",
       "    <tr>\n",
       "      <th>5</th>\n",
       "      <td>1</td>\n",
       "      <td>FreeMsg Hey there darling it's been 3 week's n...</td>\n",
       "      <td>3</td>\n",
       "    </tr>\n",
       "    <tr>\n",
       "      <th>6</th>\n",
       "      <td>0</td>\n",
       "      <td>Even my brother is not like to speak with me. ...</td>\n",
       "      <td>2</td>\n",
       "    </tr>\n",
       "    <tr>\n",
       "      <th>7</th>\n",
       "      <td>0</td>\n",
       "      <td>As per your request 'Melle Melle (Oru Minnamin...</td>\n",
       "      <td>1</td>\n",
       "    </tr>\n",
       "    <tr>\n",
       "      <th>8</th>\n",
       "      <td>1</td>\n",
       "      <td>WINNER!! As a valued network customer you have...</td>\n",
       "      <td>4</td>\n",
       "    </tr>\n",
       "    <tr>\n",
       "      <th>9</th>\n",
       "      <td>1</td>\n",
       "      <td>Had your mobile 11 months or more? U R entitle...</td>\n",
       "      <td>1</td>\n",
       "    </tr>\n",
       "  </tbody>\n",
       "</table>\n",
       "</div>"
      ],
      "text/plain": [
       "   class                                                sms  sc_count\n",
       "0      0  Go until jurong point, crazy.. Available only ...         8\n",
       "1      0                      Ok lar... Joking wif u oni...         6\n",
       "2      1  Free entry in 2 a wkly comp to win FA Cup fina...         1\n",
       "3      0  U dun say so early hor... U c already then say...         6\n",
       "4      0  Nah I don't think he goes to usf, he lives aro...         0\n",
       "5      1  FreeMsg Hey there darling it's been 3 week's n...         3\n",
       "6      0  Even my brother is not like to speak with me. ...         2\n",
       "7      0  As per your request 'Melle Melle (Oru Minnamin...         1\n",
       "8      1  WINNER!! As a valued network customer you have...         4\n",
       "9      1  Had your mobile 11 months or more? U R entitle...         1"
      ]
     },
     "execution_count": 11,
     "metadata": {},
     "output_type": "execute_result"
    }
   ],
   "source": [
    "#SMS special characters count \n",
    "# creating a list with all reviews\n",
    "sms = df.sms.tolist()\n",
    "\n",
    "# creating special characters list\n",
    "special_characters = [\"@\",\"?\",\"$\",\".\",\"£\"] # \"?\" distinguishes a lot!! \"?\" & \".\" works nicely as well!\n",
    "\n",
    "#empty list to save counts:\n",
    "count_list = []\n",
    "for s in sms:\n",
    "    count = 0\n",
    "    for c in s:\n",
    "        if c in special_characters :\n",
    "            count = count + 1\n",
    "    count_list.append(count)\n",
    "    \n",
    "#transform to series and add to df2 (which is a copy of df):\n",
    "count_list = pd.Series(count_list)\n",
    "\n",
    "df2 = df.copy()\n",
    "\n",
    "df2['sc_count'] = count_list\n",
    "df2.head(10)"
   ]
  },
  {
   "cell_type": "code",
   "execution_count": 12,
   "metadata": {},
   "outputs": [
    {
     "data": {
      "image/png": "[encoded data removed]",
      "text/plain": [
       "<Figure size 432x288 with 1 Axes>"
      ]
     },
     "metadata": {
      "needs_background": "light"
     },
     "output_type": "display_data"
    }
   ],
   "source": [
    "#spam:\n",
    "ind = df2.loc[:,\"class\"]==1\n",
    "df_spam=df2[ind]\n",
    "sns.distplot(df_spam.loc[:,'sc_count'],label=\"Spam\")\n",
    "\n",
    "#not spam:\n",
    "df_not_spam=df2[-ind]\n",
    "ax = sns.distplot(df_not_spam.loc[:,'sc_count'],label=\"no spam\")\n",
    "plt.legend()\n",
    "plt.title('Special characters count in spam vs ham')\n",
    "ax.set(xlabel='Number of special characters', ylabel='Frequency')\n",
    "plt.show()"
   ]
  },
  {
   "cell_type": "markdown",
   "metadata": {},
   "source": [
    "Not the most clear-cut result... But could serve! Maybe we can improve by modifying the special characters list."
   ]
  },
  {
   "cell_type": "code",
   "execution_count": 13,
   "metadata": {},
   "outputs": [
    {
     "data": {
      "text/html": [
       "<div>\n",
       "<style scoped>\n",
       "    .dataframe tbody tr th:only-of-type {\n",
       "        vertical-align: middle;\n",
       "    }\n",
       "\n",
       "    .dataframe tbody tr th {\n",
       "        vertical-align: top;\n",
       "    }\n",
       "\n",
       "    .dataframe thead th {\n",
       "        text-align: right;\n",
       "    }\n",
       "</style>\n",
       "<table border=\"1\" class=\"dataframe\">\n",
       "  <thead>\n",
       "    <tr style=\"text-align: right;\">\n",
       "      <th></th>\n",
       "      <th>class</th>\n",
       "      <th>sms</th>\n",
       "      <th>length</th>\n",
       "      <th>sw_count</th>\n",
       "      <th>sc_count</th>\n",
       "    </tr>\n",
       "  </thead>\n",
       "  <tbody>\n",
       "    <tr>\n",
       "      <th>0</th>\n",
       "      <td>0</td>\n",
       "      <td>Go until jurong point, crazy.. Available only ...</td>\n",
       "      <td>111</td>\n",
       "      <td>32</td>\n",
       "      <td>8</td>\n",
       "    </tr>\n",
       "    <tr>\n",
       "      <th>1</th>\n",
       "      <td>0</td>\n",
       "      <td>Ok lar... Joking wif u oni...</td>\n",
       "      <td>29</td>\n",
       "      <td>6</td>\n",
       "      <td>6</td>\n",
       "    </tr>\n",
       "    <tr>\n",
       "      <th>2</th>\n",
       "      <td>1</td>\n",
       "      <td>Free entry in 2 a wkly comp to win FA Cup fina...</td>\n",
       "      <td>155</td>\n",
       "      <td>43</td>\n",
       "      <td>1</td>\n",
       "    </tr>\n",
       "    <tr>\n",
       "      <th>3</th>\n",
       "      <td>0</td>\n",
       "      <td>U dun say so early hor... U c already then say...</td>\n",
       "      <td>49</td>\n",
       "      <td>17</td>\n",
       "      <td>6</td>\n",
       "    </tr>\n",
       "    <tr>\n",
       "      <th>4</th>\n",
       "      <td>0</td>\n",
       "      <td>Nah I don't think he goes to usf, he lives aro...</td>\n",
       "      <td>61</td>\n",
       "      <td>18</td>\n",
       "      <td>0</td>\n",
       "    </tr>\n",
       "  </tbody>\n",
       "</table>\n",
       "</div>"
      ],
      "text/plain": [
       "   class                                                sms  length  sw_count  \\\n",
       "0      0  Go until jurong point, crazy.. Available only ...     111        32   \n",
       "1      0                      Ok lar... Joking wif u oni...      29         6   \n",
       "2      1  Free entry in 2 a wkly comp to win FA Cup fina...     155        43   \n",
       "3      0  U dun say so early hor... U c already then say...      49        17   \n",
       "4      0  Nah I don't think he goes to usf, he lives aro...      61        18   \n",
       "\n",
       "   sc_count  \n",
       "0         8  \n",
       "1         6  \n",
       "2         1  \n",
       "3         6  \n",
       "4         0  "
      ]
     },
     "execution_count": 13,
     "metadata": {},
     "output_type": "execute_result"
    }
   ],
   "source": [
    "df3['sc_count'] = count_list\n",
    "df3.head()"
   ]
  },
  {
   "cell_type": "markdown",
   "metadata": {},
   "source": [
    "### 2.2.4. Hyperlink presence"
   ]
  },
  {
   "cell_type": "code",
   "execution_count": 14,
   "metadata": {},
   "outputs": [
    {
     "data": {
      "text/html": [
       "<div>\n",
       "<style scoped>\n",
       "    .dataframe tbody tr th:only-of-type {\n",
       "        vertical-align: middle;\n",
       "    }\n",
       "\n",
       "    .dataframe tbody tr th {\n",
       "        vertical-align: top;\n",
       "    }\n",
       "\n",
       "    .dataframe thead th {\n",
       "        text-align: right;\n",
       "    }\n",
       "</style>\n",
       "<table border=\"1\" class=\"dataframe\">\n",
       "  <thead>\n",
       "    <tr style=\"text-align: right;\">\n",
       "      <th></th>\n",
       "      <th>class</th>\n",
       "      <th>sms</th>\n",
       "      <th>hyperlink</th>\n",
       "    </tr>\n",
       "  </thead>\n",
       "  <tbody>\n",
       "    <tr>\n",
       "      <th>0</th>\n",
       "      <td>0</td>\n",
       "      <td>Go until jurong point, crazy.. Available only ...</td>\n",
       "      <td>False</td>\n",
       "    </tr>\n",
       "    <tr>\n",
       "      <th>1</th>\n",
       "      <td>0</td>\n",
       "      <td>Ok lar... Joking wif u oni...</td>\n",
       "      <td>False</td>\n",
       "    </tr>\n",
       "    <tr>\n",
       "      <th>2</th>\n",
       "      <td>1</td>\n",
       "      <td>Free entry in 2 a wkly comp to win FA Cup fina...</td>\n",
       "      <td>False</td>\n",
       "    </tr>\n",
       "    <tr>\n",
       "      <th>3</th>\n",
       "      <td>0</td>\n",
       "      <td>U dun say so early hor... U c already then say...</td>\n",
       "      <td>False</td>\n",
       "    </tr>\n",
       "    <tr>\n",
       "      <th>4</th>\n",
       "      <td>0</td>\n",
       "      <td>Nah I don't think he goes to usf, he lives aro...</td>\n",
       "      <td>False</td>\n",
       "    </tr>\n",
       "    <tr>\n",
       "      <th>5</th>\n",
       "      <td>1</td>\n",
       "      <td>FreeMsg Hey there darling it's been 3 week's n...</td>\n",
       "      <td>False</td>\n",
       "    </tr>\n",
       "    <tr>\n",
       "      <th>6</th>\n",
       "      <td>0</td>\n",
       "      <td>Even my brother is not like to speak with me. ...</td>\n",
       "      <td>False</td>\n",
       "    </tr>\n",
       "    <tr>\n",
       "      <th>7</th>\n",
       "      <td>0</td>\n",
       "      <td>As per your request 'Melle Melle (Oru Minnamin...</td>\n",
       "      <td>False</td>\n",
       "    </tr>\n",
       "    <tr>\n",
       "      <th>8</th>\n",
       "      <td>1</td>\n",
       "      <td>WINNER!! As a valued network customer you have...</td>\n",
       "      <td>False</td>\n",
       "    </tr>\n",
       "    <tr>\n",
       "      <th>9</th>\n",
       "      <td>1</td>\n",
       "      <td>Had your mobile 11 months or more? U R entitle...</td>\n",
       "      <td>False</td>\n",
       "    </tr>\n",
       "    <tr>\n",
       "      <th>10</th>\n",
       "      <td>0</td>\n",
       "      <td>I'm gonna be home soon and i don't want to tal...</td>\n",
       "      <td>False</td>\n",
       "    </tr>\n",
       "    <tr>\n",
       "      <th>11</th>\n",
       "      <td>1</td>\n",
       "      <td>SIX chances to win CASH! From 100 to 20,000 po...</td>\n",
       "      <td>False</td>\n",
       "    </tr>\n",
       "    <tr>\n",
       "      <th>12</th>\n",
       "      <td>1</td>\n",
       "      <td>URGENT! You have won a 1 week FREE membership ...</td>\n",
       "      <td>True</td>\n",
       "    </tr>\n",
       "    <tr>\n",
       "      <th>13</th>\n",
       "      <td>0</td>\n",
       "      <td>I've been searching for the right words to tha...</td>\n",
       "      <td>False</td>\n",
       "    </tr>\n",
       "    <tr>\n",
       "      <th>14</th>\n",
       "      <td>0</td>\n",
       "      <td>I HAVE A DATE ON SUNDAY WITH WILL!!</td>\n",
       "      <td>False</td>\n",
       "    </tr>\n",
       "    <tr>\n",
       "      <th>15</th>\n",
       "      <td>1</td>\n",
       "      <td>XXXMobileMovieClub: To use your credit, click ...</td>\n",
       "      <td>True</td>\n",
       "    </tr>\n",
       "    <tr>\n",
       "      <th>16</th>\n",
       "      <td>0</td>\n",
       "      <td>Oh k...i'm watching here:)</td>\n",
       "      <td>False</td>\n",
       "    </tr>\n",
       "    <tr>\n",
       "      <th>17</th>\n",
       "      <td>0</td>\n",
       "      <td>Eh u remember how 2 spell his name... Yes i di...</td>\n",
       "      <td>False</td>\n",
       "    </tr>\n",
       "    <tr>\n",
       "      <th>18</th>\n",
       "      <td>0</td>\n",
       "      <td>Fine if thatÂ’s the way u feel. ThatÂ’s the wa...</td>\n",
       "      <td>False</td>\n",
       "    </tr>\n",
       "    <tr>\n",
       "      <th>19</th>\n",
       "      <td>1</td>\n",
       "      <td>England v Macedonia - dont miss the goals/team...</td>\n",
       "      <td>False</td>\n",
       "    </tr>\n",
       "  </tbody>\n",
       "</table>\n",
       "</div>"
      ],
      "text/plain": [
       "    class                                                sms  hyperlink\n",
       "0       0  Go until jurong point, crazy.. Available only ...      False\n",
       "1       0                      Ok lar... Joking wif u oni...      False\n",
       "2       1  Free entry in 2 a wkly comp to win FA Cup fina...      False\n",
       "3       0  U dun say so early hor... U c already then say...      False\n",
       "4       0  Nah I don't think he goes to usf, he lives aro...      False\n",
       "5       1  FreeMsg Hey there darling it's been 3 week's n...      False\n",
       "6       0  Even my brother is not like to speak with me. ...      False\n",
       "7       0  As per your request 'Melle Melle (Oru Minnamin...      False\n",
       "8       1  WINNER!! As a valued network customer you have...      False\n",
       "9       1  Had your mobile 11 months or more? U R entitle...      False\n",
       "10      0  I'm gonna be home soon and i don't want to tal...      False\n",
       "11      1  SIX chances to win CASH! From 100 to 20,000 po...      False\n",
       "12      1  URGENT! You have won a 1 week FREE membership ...       True\n",
       "13      0  I've been searching for the right words to tha...      False\n",
       "14      0                I HAVE A DATE ON SUNDAY WITH WILL!!      False\n",
       "15      1  XXXMobileMovieClub: To use your credit, click ...       True\n",
       "16      0                         Oh k...i'm watching here:)      False\n",
       "17      0  Eh u remember how 2 spell his name... Yes i di...      False\n",
       "18      0  Fine if thatÂ’s the way u feel. ThatÂ’s the wa...      False\n",
       "19      1  England v Macedonia - dont miss the goals/team...      False"
      ]
     },
     "execution_count": 14,
     "metadata": {},
     "output_type": "execute_result"
    }
   ],
   "source": [
    "sms = df.sms.tolist()\n",
    "\n",
    "#empty list to save counts:\n",
    "count_list = []\n",
    "for s in sms:\n",
    "    count = 0\n",
    "    count += s.count('www') + s.count('http') \n",
    "    count_list.append(count)\n",
    "    \n",
    "count_list = pd.Series(count_list)\n",
    "count_list = (count_list >= 1)\n",
    "\n",
    "df2 = df.copy()\n",
    "df2['hyperlink'] = count_list\n",
    "#hyperlinks = (df2.loc[:,'hyp'] >=1)\n",
    "#df2['hyperlinks'] = hyperlinks\n",
    "\n",
    "df2.head(20)"
   ]
  },
  {
   "cell_type": "code",
   "execution_count": 15,
   "metadata": {},
   "outputs": [
    {
     "data": {
      "image/png": "[encoded data removed]",
      "text/plain": [
       "<Figure size 432x288 with 1 Axes>"
      ]
     },
     "metadata": {
      "needs_background": "light"
     },
     "output_type": "display_data"
    }
   ],
   "source": [
    "#count phone numbers per class:\n",
    "sns.countplot(x=\"hyperlink\",hue=\"class\",data=df2)\n",
    "plt.title('Presence of hyperlink per class')\n",
    "plt.show()"
   ]
  },
  {
   "cell_type": "code",
   "execution_count": 16,
   "metadata": {},
   "outputs": [
    {
     "data": {
      "text/html": [
       "<div>\n",
       "<style scoped>\n",
       "    .dataframe tbody tr th:only-of-type {\n",
       "        vertical-align: middle;\n",
       "    }\n",
       "\n",
       "    .dataframe tbody tr th {\n",
       "        vertical-align: top;\n",
       "    }\n",
       "\n",
       "    .dataframe thead th {\n",
       "        text-align: right;\n",
       "    }\n",
       "</style>\n",
       "<table border=\"1\" class=\"dataframe\">\n",
       "  <thead>\n",
       "    <tr style=\"text-align: right;\">\n",
       "      <th></th>\n",
       "      <th>class</th>\n",
       "      <th>sms</th>\n",
       "      <th>length</th>\n",
       "      <th>sw_count</th>\n",
       "      <th>sc_count</th>\n",
       "      <th>hyperlink</th>\n",
       "    </tr>\n",
       "  </thead>\n",
       "  <tbody>\n",
       "    <tr>\n",
       "      <th>0</th>\n",
       "      <td>0</td>\n",
       "      <td>Go until jurong point, crazy.. Available only ...</td>\n",
       "      <td>111</td>\n",
       "      <td>32</td>\n",
       "      <td>8</td>\n",
       "      <td>False</td>\n",
       "    </tr>\n",
       "    <tr>\n",
       "      <th>1</th>\n",
       "      <td>0</td>\n",
       "      <td>Ok lar... Joking wif u oni...</td>\n",
       "      <td>29</td>\n",
       "      <td>6</td>\n",
       "      <td>6</td>\n",
       "      <td>False</td>\n",
       "    </tr>\n",
       "    <tr>\n",
       "      <th>2</th>\n",
       "      <td>1</td>\n",
       "      <td>Free entry in 2 a wkly comp to win FA Cup fina...</td>\n",
       "      <td>155</td>\n",
       "      <td>43</td>\n",
       "      <td>1</td>\n",
       "      <td>False</td>\n",
       "    </tr>\n",
       "    <tr>\n",
       "      <th>3</th>\n",
       "      <td>0</td>\n",
       "      <td>U dun say so early hor... U c already then say...</td>\n",
       "      <td>49</td>\n",
       "      <td>17</td>\n",
       "      <td>6</td>\n",
       "      <td>False</td>\n",
       "    </tr>\n",
       "    <tr>\n",
       "      <th>4</th>\n",
       "      <td>0</td>\n",
       "      <td>Nah I don't think he goes to usf, he lives aro...</td>\n",
       "      <td>61</td>\n",
       "      <td>18</td>\n",
       "      <td>0</td>\n",
       "      <td>False</td>\n",
       "    </tr>\n",
       "    <tr>\n",
       "      <th>5</th>\n",
       "      <td>1</td>\n",
       "      <td>FreeMsg Hey there darling it's been 3 week's n...</td>\n",
       "      <td>148</td>\n",
       "      <td>41</td>\n",
       "      <td>3</td>\n",
       "      <td>False</td>\n",
       "    </tr>\n",
       "    <tr>\n",
       "      <th>6</th>\n",
       "      <td>0</td>\n",
       "      <td>Even my brother is not like to speak with me. ...</td>\n",
       "      <td>77</td>\n",
       "      <td>29</td>\n",
       "      <td>2</td>\n",
       "      <td>False</td>\n",
       "    </tr>\n",
       "    <tr>\n",
       "      <th>7</th>\n",
       "      <td>0</td>\n",
       "      <td>As per your request 'Melle Melle (Oru Minnamin...</td>\n",
       "      <td>160</td>\n",
       "      <td>42</td>\n",
       "      <td>1</td>\n",
       "      <td>False</td>\n",
       "    </tr>\n",
       "    <tr>\n",
       "      <th>8</th>\n",
       "      <td>1</td>\n",
       "      <td>WINNER!! As a valued network customer you have...</td>\n",
       "      <td>158</td>\n",
       "      <td>40</td>\n",
       "      <td>4</td>\n",
       "      <td>False</td>\n",
       "    </tr>\n",
       "    <tr>\n",
       "      <th>9</th>\n",
       "      <td>1</td>\n",
       "      <td>Had your mobile 11 months or more? U R entitle...</td>\n",
       "      <td>154</td>\n",
       "      <td>50</td>\n",
       "      <td>1</td>\n",
       "      <td>False</td>\n",
       "    </tr>\n",
       "  </tbody>\n",
       "</table>\n",
       "</div>"
      ],
      "text/plain": [
       "   class                                                sms  length  sw_count  \\\n",
       "0      0  Go until jurong point, crazy.. Available only ...     111        32   \n",
       "1      0                      Ok lar... Joking wif u oni...      29         6   \n",
       "2      1  Free entry in 2 a wkly comp to win FA Cup fina...     155        43   \n",
       "3      0  U dun say so early hor... U c already then say...      49        17   \n",
       "4      0  Nah I don't think he goes to usf, he lives aro...      61        18   \n",
       "5      1  FreeMsg Hey there darling it's been 3 week's n...     148        41   \n",
       "6      0  Even my brother is not like to speak with me. ...      77        29   \n",
       "7      0  As per your request 'Melle Melle (Oru Minnamin...     160        42   \n",
       "8      1  WINNER!! As a valued network customer you have...     158        40   \n",
       "9      1  Had your mobile 11 months or more? U R entitle...     154        50   \n",
       "\n",
       "   sc_count  hyperlink  \n",
       "0         8      False  \n",
       "1         6      False  \n",
       "2         1      False  \n",
       "3         6      False  \n",
       "4         0      False  \n",
       "5         3      False  \n",
       "6         2      False  \n",
       "7         1      False  \n",
       "8         4      False  \n",
       "9         1      False  "
      ]
     },
     "execution_count": 16,
     "metadata": {},
     "output_type": "execute_result"
    }
   ],
   "source": [
    "df3['hyperlink'] = count_list\n",
    "df3.head(10)"
   ]
  },
  {
   "cell_type": "markdown",
   "metadata": {},
   "source": [
    "All messages that have an url are spam."
   ]
  },
  {
   "cell_type": "markdown",
   "metadata": {},
   "source": [
    "### 2.2.5. Digit count + Phone nb presence"
   ]
  },
  {
   "cell_type": "markdown",
   "metadata": {},
   "source": [
    "We might be interested to see if there is a phone number in a sms. A simple idea is to count hte number of single digits in a sms, and if the number is larger then 8, the probability is high that it is a phone number (an adress for example should have less than 8 digits). As a result, we need to come up with a function counting the digits in each sms:"
   ]
  },
  {
   "cell_type": "code",
   "execution_count": 17,
   "metadata": {},
   "outputs": [
    {
     "data": {
      "text/html": [
       "<div>\n",
       "<style scoped>\n",
       "    .dataframe tbody tr th:only-of-type {\n",
       "        vertical-align: middle;\n",
       "    }\n",
       "\n",
       "    .dataframe tbody tr th {\n",
       "        vertical-align: top;\n",
       "    }\n",
       "\n",
       "    .dataframe thead th {\n",
       "        text-align: right;\n",
       "    }\n",
       "</style>\n",
       "<table border=\"1\" class=\"dataframe\">\n",
       "  <thead>\n",
       "    <tr style=\"text-align: right;\">\n",
       "      <th></th>\n",
       "      <th>class</th>\n",
       "      <th>sms</th>\n",
       "      <th>digit_count</th>\n",
       "      <th>phone</th>\n",
       "    </tr>\n",
       "  </thead>\n",
       "  <tbody>\n",
       "    <tr>\n",
       "      <th>0</th>\n",
       "      <td>0</td>\n",
       "      <td>Go until jurong point, crazy.. Available only ...</td>\n",
       "      <td>0</td>\n",
       "      <td>False</td>\n",
       "    </tr>\n",
       "    <tr>\n",
       "      <th>1</th>\n",
       "      <td>0</td>\n",
       "      <td>Ok lar... Joking wif u oni...</td>\n",
       "      <td>0</td>\n",
       "      <td>False</td>\n",
       "    </tr>\n",
       "    <tr>\n",
       "      <th>2</th>\n",
       "      <td>1</td>\n",
       "      <td>Free entry in 2 a wkly comp to win FA Cup fina...</td>\n",
       "      <td>25</td>\n",
       "      <td>True</td>\n",
       "    </tr>\n",
       "    <tr>\n",
       "      <th>3</th>\n",
       "      <td>0</td>\n",
       "      <td>U dun say so early hor... U c already then say...</td>\n",
       "      <td>0</td>\n",
       "      <td>False</td>\n",
       "    </tr>\n",
       "    <tr>\n",
       "      <th>4</th>\n",
       "      <td>0</td>\n",
       "      <td>Nah I don't think he goes to usf, he lives aro...</td>\n",
       "      <td>0</td>\n",
       "      <td>False</td>\n",
       "    </tr>\n",
       "  </tbody>\n",
       "</table>\n",
       "</div>"
      ],
      "text/plain": [
       "   class                                                sms  digit_count  \\\n",
       "0      0  Go until jurong point, crazy.. Available only ...            0   \n",
       "1      0                      Ok lar... Joking wif u oni...            0   \n",
       "2      1  Free entry in 2 a wkly comp to win FA Cup fina...           25   \n",
       "3      0  U dun say so early hor... U c already then say...            0   \n",
       "4      0  Nah I don't think he goes to usf, he lives aro...            0   \n",
       "\n",
       "   phone  \n",
       "0  False  \n",
       "1  False  \n",
       "2   True  \n",
       "3  False  \n",
       "4  False  "
      ]
     },
     "execution_count": 17,
     "metadata": {},
     "output_type": "execute_result"
    }
   ],
   "source": [
    "#SMS digit count \n",
    "# creating a list with all reviews\n",
    "sms = df.sms.tolist()\n",
    "#empty list to save counts:\n",
    "count_list = []\n",
    "for s in sms:\n",
    "    count = 0\n",
    "    for c in s:\n",
    "        if c.isdigit():\n",
    "            count = count + 1\n",
    "    count_list.append(count)\n",
    "    \n",
    "#transform to series and add to df2 (which is a copy of df):\n",
    "count_list = pd.Series(count_list)\n",
    "\n",
    "df2 = df.copy()\n",
    "\n",
    "df2['digit_count'] = count_list\n",
    "phone = (df2.loc[:,'digit_count'] > 8)\n",
    "df2['phone'] = phone\n",
    "df2.head()"
   ]
  },
  {
   "cell_type": "code",
   "execution_count": 18,
   "metadata": {},
   "outputs": [
    {
     "data": {
      "image/png": "[encoded data removed]",
      "text/plain": [
       "<Figure size 432x288 with 1 Axes>"
      ]
     },
     "metadata": {
      "needs_background": "light"
     },
     "output_type": "display_data"
    },
    {
     "data": {
      "image/png": "[encoded data removed]",
      "text/plain": [
       "<Figure size 432x288 with 1 Axes>"
      ]
     },
     "metadata": {
      "needs_background": "light"
     },
     "output_type": "display_data"
    },
    {
     "data": {
      "image/png": "[encoded data removed]",
      "text/plain": [
       "<Figure size 432x288 with 1 Axes>"
      ]
     },
     "metadata": {
      "needs_background": "light"
     },
     "output_type": "display_data"
    }
   ],
   "source": [
    "#make a count plot with phone numbers:\n",
    "sns.countplot(x=\"phone\",data=df2)\n",
    "plt.title('Number of phone number (>8 digits) in the sms')\n",
    "plt.show()\n",
    "\n",
    "#count phone numbers per class:\n",
    "sns.countplot(x=\"phone\",hue=\"class\",data=df2)\n",
    "plt.title('Number of phone number (>8 digits) in the sms per class')\n",
    "plt.show()\n",
    "\n",
    "#look precisely at phone numbers for different classes:\n",
    "ind = (df2.loc[:,\"phone\"] == True)\n",
    "df4 = df2[ind]\n",
    "sns.countplot(x=\"phone\",hue=\"class\",data=df4)\n",
    "plt.title('Distribution (count) of phone numbers between classes')\n",
    "plt.show()\n"
   ]
  },
  {
   "cell_type": "code",
   "execution_count": 19,
   "metadata": {},
   "outputs": [
    {
     "data": {
      "text/html": [
       "<div>\n",
       "<style scoped>\n",
       "    .dataframe tbody tr th:only-of-type {\n",
       "        vertical-align: middle;\n",
       "    }\n",
       "\n",
       "    .dataframe tbody tr th {\n",
       "        vertical-align: top;\n",
       "    }\n",
       "\n",
       "    .dataframe thead th {\n",
       "        text-align: right;\n",
       "    }\n",
       "</style>\n",
       "<table border=\"1\" class=\"dataframe\">\n",
       "  <thead>\n",
       "    <tr style=\"text-align: right;\">\n",
       "      <th></th>\n",
       "      <th>class</th>\n",
       "      <th>sms</th>\n",
       "      <th>length</th>\n",
       "      <th>sw_count</th>\n",
       "      <th>sc_count</th>\n",
       "      <th>hyperlink</th>\n",
       "      <th>digit_count</th>\n",
       "      <th>phone</th>\n",
       "    </tr>\n",
       "  </thead>\n",
       "  <tbody>\n",
       "    <tr>\n",
       "      <th>0</th>\n",
       "      <td>0</td>\n",
       "      <td>Go until jurong point, crazy.. Available only ...</td>\n",
       "      <td>111</td>\n",
       "      <td>32</td>\n",
       "      <td>8</td>\n",
       "      <td>False</td>\n",
       "      <td>0</td>\n",
       "      <td>False</td>\n",
       "    </tr>\n",
       "    <tr>\n",
       "      <th>1</th>\n",
       "      <td>0</td>\n",
       "      <td>Ok lar... Joking wif u oni...</td>\n",
       "      <td>29</td>\n",
       "      <td>6</td>\n",
       "      <td>6</td>\n",
       "      <td>False</td>\n",
       "      <td>0</td>\n",
       "      <td>False</td>\n",
       "    </tr>\n",
       "    <tr>\n",
       "      <th>2</th>\n",
       "      <td>1</td>\n",
       "      <td>Free entry in 2 a wkly comp to win FA Cup fina...</td>\n",
       "      <td>155</td>\n",
       "      <td>43</td>\n",
       "      <td>1</td>\n",
       "      <td>False</td>\n",
       "      <td>25</td>\n",
       "      <td>True</td>\n",
       "    </tr>\n",
       "    <tr>\n",
       "      <th>3</th>\n",
       "      <td>0</td>\n",
       "      <td>U dun say so early hor... U c already then say...</td>\n",
       "      <td>49</td>\n",
       "      <td>17</td>\n",
       "      <td>6</td>\n",
       "      <td>False</td>\n",
       "      <td>0</td>\n",
       "      <td>False</td>\n",
       "    </tr>\n",
       "    <tr>\n",
       "      <th>4</th>\n",
       "      <td>0</td>\n",
       "      <td>Nah I don't think he goes to usf, he lives aro...</td>\n",
       "      <td>61</td>\n",
       "      <td>18</td>\n",
       "      <td>0</td>\n",
       "      <td>False</td>\n",
       "      <td>0</td>\n",
       "      <td>False</td>\n",
       "    </tr>\n",
       "    <tr>\n",
       "      <th>5</th>\n",
       "      <td>1</td>\n",
       "      <td>FreeMsg Hey there darling it's been 3 week's n...</td>\n",
       "      <td>148</td>\n",
       "      <td>41</td>\n",
       "      <td>3</td>\n",
       "      <td>False</td>\n",
       "      <td>4</td>\n",
       "      <td>False</td>\n",
       "    </tr>\n",
       "    <tr>\n",
       "      <th>6</th>\n",
       "      <td>0</td>\n",
       "      <td>Even my brother is not like to speak with me. ...</td>\n",
       "      <td>77</td>\n",
       "      <td>29</td>\n",
       "      <td>2</td>\n",
       "      <td>False</td>\n",
       "      <td>0</td>\n",
       "      <td>False</td>\n",
       "    </tr>\n",
       "    <tr>\n",
       "      <th>7</th>\n",
       "      <td>0</td>\n",
       "      <td>As per your request 'Melle Melle (Oru Minnamin...</td>\n",
       "      <td>160</td>\n",
       "      <td>42</td>\n",
       "      <td>1</td>\n",
       "      <td>False</td>\n",
       "      <td>1</td>\n",
       "      <td>False</td>\n",
       "    </tr>\n",
       "    <tr>\n",
       "      <th>8</th>\n",
       "      <td>1</td>\n",
       "      <td>WINNER!! As a valued network customer you have...</td>\n",
       "      <td>158</td>\n",
       "      <td>40</td>\n",
       "      <td>4</td>\n",
       "      <td>False</td>\n",
       "      <td>19</td>\n",
       "      <td>True</td>\n",
       "    </tr>\n",
       "    <tr>\n",
       "      <th>9</th>\n",
       "      <td>1</td>\n",
       "      <td>Had your mobile 11 months or more? U R entitle...</td>\n",
       "      <td>154</td>\n",
       "      <td>50</td>\n",
       "      <td>1</td>\n",
       "      <td>False</td>\n",
       "      <td>13</td>\n",
       "      <td>True</td>\n",
       "    </tr>\n",
       "  </tbody>\n",
       "</table>\n",
       "</div>"
      ],
      "text/plain": [
       "   class                                                sms  length  sw_count  \\\n",
       "0      0  Go until jurong point, crazy.. Available only ...     111        32   \n",
       "1      0                      Ok lar... Joking wif u oni...      29         6   \n",
       "2      1  Free entry in 2 a wkly comp to win FA Cup fina...     155        43   \n",
       "3      0  U dun say so early hor... U c already then say...      49        17   \n",
       "4      0  Nah I don't think he goes to usf, he lives aro...      61        18   \n",
       "5      1  FreeMsg Hey there darling it's been 3 week's n...     148        41   \n",
       "6      0  Even my brother is not like to speak with me. ...      77        29   \n",
       "7      0  As per your request 'Melle Melle (Oru Minnamin...     160        42   \n",
       "8      1  WINNER!! As a valued network customer you have...     158        40   \n",
       "9      1  Had your mobile 11 months or more? U R entitle...     154        50   \n",
       "\n",
       "   sc_count  hyperlink  digit_count  phone  \n",
       "0         8      False            0  False  \n",
       "1         6      False            0  False  \n",
       "2         1      False           25   True  \n",
       "3         6      False            0  False  \n",
       "4         0      False            0  False  \n",
       "5         3      False            4  False  \n",
       "6         2      False            0  False  \n",
       "7         1      False            1  False  \n",
       "8         4      False           19   True  \n",
       "9         1      False           13   True  "
      ]
     },
     "execution_count": 19,
     "metadata": {},
     "output_type": "execute_result"
    }
   ],
   "source": [
    "df3['digit_count'] = count_list\n",
    "phone = (df3.loc[:,'digit_count'] > 8)\n",
    "df3['phone'] = phone\n",
    "df3.head(10)"
   ]
  },
  {
   "cell_type": "markdown",
   "metadata": {},
   "source": [
    "We get a very interesting insight from analysing phone numbers.\n",
    "\n",
    "1) about 4900 sms's have not more than 8 digits (i.e. no phone numbers)  \n",
    "2) around 600 sms's have a phone number in the text  \n",
    "3) out of those 600, about 570 are marked as spam, only about 30 are not spam\n",
    "\n",
    "As such, having more than 8 digits in the content might be a strong indicator for a spam sms."
   ]
  },
  {
   "cell_type": "markdown",
   "metadata": {},
   "source": [
    "### 2.2.6. Smiley presence"
   ]
  },
  {
   "cell_type": "code",
   "execution_count": 20,
   "metadata": {},
   "outputs": [
    {
     "data": {
      "text/html": [
       "<div>\n",
       "<style scoped>\n",
       "    .dataframe tbody tr th:only-of-type {\n",
       "        vertical-align: middle;\n",
       "    }\n",
       "\n",
       "    .dataframe tbody tr th {\n",
       "        vertical-align: top;\n",
       "    }\n",
       "\n",
       "    .dataframe thead th {\n",
       "        text-align: right;\n",
       "    }\n",
       "</style>\n",
       "<table border=\"1\" class=\"dataframe\">\n",
       "  <thead>\n",
       "    <tr style=\"text-align: right;\">\n",
       "      <th></th>\n",
       "      <th>class</th>\n",
       "      <th>sms</th>\n",
       "      <th>smileys</th>\n",
       "      <th>weeb</th>\n",
       "    </tr>\n",
       "  </thead>\n",
       "  <tbody>\n",
       "    <tr>\n",
       "      <th>0</th>\n",
       "      <td>0</td>\n",
       "      <td>Go until jurong point, crazy.. Available only ...</td>\n",
       "      <td>0</td>\n",
       "      <td>False</td>\n",
       "    </tr>\n",
       "    <tr>\n",
       "      <th>1</th>\n",
       "      <td>0</td>\n",
       "      <td>Ok lar... Joking wif u oni...</td>\n",
       "      <td>0</td>\n",
       "      <td>False</td>\n",
       "    </tr>\n",
       "    <tr>\n",
       "      <th>2</th>\n",
       "      <td>1</td>\n",
       "      <td>Free entry in 2 a wkly comp to win FA Cup fina...</td>\n",
       "      <td>0</td>\n",
       "      <td>False</td>\n",
       "    </tr>\n",
       "    <tr>\n",
       "      <th>3</th>\n",
       "      <td>0</td>\n",
       "      <td>U dun say so early hor... U c already then say...</td>\n",
       "      <td>0</td>\n",
       "      <td>False</td>\n",
       "    </tr>\n",
       "    <tr>\n",
       "      <th>4</th>\n",
       "      <td>0</td>\n",
       "      <td>Nah I don't think he goes to usf, he lives aro...</td>\n",
       "      <td>0</td>\n",
       "      <td>False</td>\n",
       "    </tr>\n",
       "    <tr>\n",
       "      <th>5</th>\n",
       "      <td>1</td>\n",
       "      <td>FreeMsg Hey there darling it's been 3 week's n...</td>\n",
       "      <td>0</td>\n",
       "      <td>False</td>\n",
       "    </tr>\n",
       "    <tr>\n",
       "      <th>6</th>\n",
       "      <td>0</td>\n",
       "      <td>Even my brother is not like to speak with me. ...</td>\n",
       "      <td>0</td>\n",
       "      <td>False</td>\n",
       "    </tr>\n",
       "    <tr>\n",
       "      <th>7</th>\n",
       "      <td>0</td>\n",
       "      <td>As per your request 'Melle Melle (Oru Minnamin...</td>\n",
       "      <td>0</td>\n",
       "      <td>False</td>\n",
       "    </tr>\n",
       "    <tr>\n",
       "      <th>8</th>\n",
       "      <td>1</td>\n",
       "      <td>WINNER!! As a valued network customer you have...</td>\n",
       "      <td>0</td>\n",
       "      <td>False</td>\n",
       "    </tr>\n",
       "    <tr>\n",
       "      <th>9</th>\n",
       "      <td>1</td>\n",
       "      <td>Had your mobile 11 months or more? U R entitle...</td>\n",
       "      <td>0</td>\n",
       "      <td>False</td>\n",
       "    </tr>\n",
       "  </tbody>\n",
       "</table>\n",
       "</div>"
      ],
      "text/plain": [
       "   class                                                sms  smileys   weeb\n",
       "0      0  Go until jurong point, crazy.. Available only ...        0  False\n",
       "1      0                      Ok lar... Joking wif u oni...        0  False\n",
       "2      1  Free entry in 2 a wkly comp to win FA Cup fina...        0  False\n",
       "3      0  U dun say so early hor... U c already then say...        0  False\n",
       "4      0  Nah I don't think he goes to usf, he lives aro...        0  False\n",
       "5      1  FreeMsg Hey there darling it's been 3 week's n...        0  False\n",
       "6      0  Even my brother is not like to speak with me. ...        0  False\n",
       "7      0  As per your request 'Melle Melle (Oru Minnamin...        0  False\n",
       "8      1  WINNER!! As a valued network customer you have...        0  False\n",
       "9      1  Had your mobile 11 months or more? U R entitle...        0  False"
      ]
     },
     "execution_count": 20,
     "metadata": {},
     "output_type": "execute_result"
    }
   ],
   "source": [
    "sms = df.sms.tolist()\n",
    "\n",
    "#empty list to save counts:\n",
    "smileys = [':-)',':)','(-:','(:',':-(',':(',')-:','):',':o',':O',':0',':‑)'\n",
    "           ,':)',':-]',':]',':-3',':3',':->',':>','8-)','8)',':-}',':}',':o)',\n",
    "           ':c)',':^)','=]','=)']\n",
    "\n",
    "\n",
    "count_list = []\n",
    "for s in sms:\n",
    "    count = 0\n",
    "    for i in range(len(smileys)):\n",
    "        count += s.count(smileys[i])\n",
    "    count_list.append(count)\n",
    "    \n",
    "count_list = pd.Series(count_list)\n",
    "weeb = (count_list > 1)\n",
    "\n",
    "df2 = df.copy()\n",
    "df2['smileys'] = count_list\n",
    "df2['weeb'] = weeb\n",
    "\n",
    "df2.head(10)"
   ]
  },
  {
   "cell_type": "code",
   "execution_count": 21,
   "metadata": {},
   "outputs": [
    {
     "data": {
      "image/png": "[encoded data removed]",
      "text/plain": [
       "<Figure size 432x288 with 1 Axes>"
      ]
     },
     "metadata": {
      "needs_background": "light"
     },
     "output_type": "display_data"
    }
   ],
   "source": [
    "#count phone numbers per class:\n",
    "sns.countplot(x=\"smileys\",hue=\"class\",data=df2)\n",
    "plt.title('Presence of smileys per class')\n",
    "plt.show()"
   ]
  },
  {
   "cell_type": "markdown",
   "metadata": {},
   "source": [
    "Some spam can have on (very rarely 2) but only non spam have multiple emojis!"
   ]
  },
  {
   "cell_type": "code",
   "execution_count": 22,
   "metadata": {},
   "outputs": [
    {
     "data": {
      "text/html": [
       "<div>\n",
       "<style scoped>\n",
       "    .dataframe tbody tr th:only-of-type {\n",
       "        vertical-align: middle;\n",
       "    }\n",
       "\n",
       "    .dataframe tbody tr th {\n",
       "        vertical-align: top;\n",
       "    }\n",
       "\n",
       "    .dataframe thead th {\n",
       "        text-align: right;\n",
       "    }\n",
       "</style>\n",
       "<table border=\"1\" class=\"dataframe\">\n",
       "  <thead>\n",
       "    <tr style=\"text-align: right;\">\n",
       "      <th></th>\n",
       "      <th>class</th>\n",
       "      <th>sms</th>\n",
       "      <th>length</th>\n",
       "      <th>sw_count</th>\n",
       "      <th>sc_count</th>\n",
       "      <th>hyperlink</th>\n",
       "      <th>digit_count</th>\n",
       "      <th>phone</th>\n",
       "      <th>smileys</th>\n",
       "      <th>weeb</th>\n",
       "    </tr>\n",
       "  </thead>\n",
       "  <tbody>\n",
       "    <tr>\n",
       "      <th>0</th>\n",
       "      <td>0</td>\n",
       "      <td>Go until jurong point, crazy.. Available only ...</td>\n",
       "      <td>111</td>\n",
       "      <td>32</td>\n",
       "      <td>8</td>\n",
       "      <td>False</td>\n",
       "      <td>0</td>\n",
       "      <td>False</td>\n",
       "      <td>0</td>\n",
       "      <td>False</td>\n",
       "    </tr>\n",
       "    <tr>\n",
       "      <th>1</th>\n",
       "      <td>0</td>\n",
       "      <td>Ok lar... Joking wif u oni...</td>\n",
       "      <td>29</td>\n",
       "      <td>6</td>\n",
       "      <td>6</td>\n",
       "      <td>False</td>\n",
       "      <td>0</td>\n",
       "      <td>False</td>\n",
       "      <td>0</td>\n",
       "      <td>False</td>\n",
       "    </tr>\n",
       "    <tr>\n",
       "      <th>2</th>\n",
       "      <td>1</td>\n",
       "      <td>Free entry in 2 a wkly comp to win FA Cup fina...</td>\n",
       "      <td>155</td>\n",
       "      <td>43</td>\n",
       "      <td>1</td>\n",
       "      <td>False</td>\n",
       "      <td>25</td>\n",
       "      <td>True</td>\n",
       "      <td>0</td>\n",
       "      <td>False</td>\n",
       "    </tr>\n",
       "    <tr>\n",
       "      <th>3</th>\n",
       "      <td>0</td>\n",
       "      <td>U dun say so early hor... U c already then say...</td>\n",
       "      <td>49</td>\n",
       "      <td>17</td>\n",
       "      <td>6</td>\n",
       "      <td>False</td>\n",
       "      <td>0</td>\n",
       "      <td>False</td>\n",
       "      <td>0</td>\n",
       "      <td>False</td>\n",
       "    </tr>\n",
       "    <tr>\n",
       "      <th>4</th>\n",
       "      <td>0</td>\n",
       "      <td>Nah I don't think he goes to usf, he lives aro...</td>\n",
       "      <td>61</td>\n",
       "      <td>18</td>\n",
       "      <td>0</td>\n",
       "      <td>False</td>\n",
       "      <td>0</td>\n",
       "      <td>False</td>\n",
       "      <td>0</td>\n",
       "      <td>False</td>\n",
       "    </tr>\n",
       "  </tbody>\n",
       "</table>\n",
       "</div>"
      ],
      "text/plain": [
       "   class                                                sms  length  sw_count  \\\n",
       "0      0  Go until jurong point, crazy.. Available only ...     111        32   \n",
       "1      0                      Ok lar... Joking wif u oni...      29         6   \n",
       "2      1  Free entry in 2 a wkly comp to win FA Cup fina...     155        43   \n",
       "3      0  U dun say so early hor... U c already then say...      49        17   \n",
       "4      0  Nah I don't think he goes to usf, he lives aro...      61        18   \n",
       "\n",
       "   sc_count  hyperlink  digit_count  phone  smileys   weeb  \n",
       "0         8      False            0  False        0  False  \n",
       "1         6      False            0  False        0  False  \n",
       "2         1      False           25   True        0  False  \n",
       "3         6      False            0  False        0  False  \n",
       "4         0      False            0  False        0  False  "
      ]
     },
     "execution_count": 22,
     "metadata": {},
     "output_type": "execute_result"
    }
   ],
   "source": [
    "df3['smileys'] = count_list\n",
    "df3['weeb'] = weeb\n",
    "df3.head()"
   ]
  },
  {
   "cell_type": "markdown",
   "metadata": {},
   "source": [
    "### 2.2.7. Upper-case presence"
   ]
  },
  {
   "cell_type": "markdown",
   "metadata": {},
   "source": [
    "Next, we might be interested to count upper case letters. The underlying assumption is that spam sms's might use upper case to attract attention, while normal sms's might use a lot less upp-case letters."
   ]
  },
  {
   "cell_type": "code",
   "execution_count": 23,
   "metadata": {},
   "outputs": [],
   "source": [
    "#count upper-case:\n",
    "count_list = []\n",
    "for s in sms:\n",
    "    count = 0\n",
    "    for c in s:\n",
    "        if c.isupper():\n",
    "            count = count + 1\n",
    "    count_list.append(count)\n",
    "count_list\n",
    "\n",
    "#transform to series and add to df2 (which is a copy of df):\n",
    "count_list = pd.Series(count_list)\n",
    "\n",
    "df2['upper_case'] = count_list"
   ]
  },
  {
   "cell_type": "code",
   "execution_count": 24,
   "metadata": {},
   "outputs": [
    {
     "data": {
      "image/png": "[encoded data removed]",
      "text/plain": [
       "<Figure size 432x288 with 1 Axes>"
      ]
     },
     "metadata": {
      "needs_background": "light"
     },
     "output_type": "display_data"
    }
   ],
   "source": [
    "#spam:\n",
    "ind = df2.loc[:,\"class\"]==1\n",
    "df_spam=df2[ind]\n",
    "sns.distplot(df_spam.loc[:,'upper_case'],label=\"Spam\")\n",
    "\n",
    "#not spam:\n",
    "df_not_spam=df2[-ind]\n",
    "ax = sns.distplot(df_not_spam.loc[:,'upper_case'],label=\"no spam\")\n",
    "plt.legend()\n",
    "plt.title('Count the number of upper-case characters in spam sms and not spam sms')\n",
    "ax.set(xlabel='Number of upper-case characters', ylabel='Frequency')\n",
    "plt.show()"
   ]
  },
  {
   "cell_type": "code",
   "execution_count": 25,
   "metadata": {},
   "outputs": [
    {
     "data": {
      "text/html": [
       "<div>\n",
       "<style scoped>\n",
       "    .dataframe tbody tr th:only-of-type {\n",
       "        vertical-align: middle;\n",
       "    }\n",
       "\n",
       "    .dataframe tbody tr th {\n",
       "        vertical-align: top;\n",
       "    }\n",
       "\n",
       "    .dataframe thead th {\n",
       "        text-align: right;\n",
       "    }\n",
       "</style>\n",
       "<table border=\"1\" class=\"dataframe\">\n",
       "  <thead>\n",
       "    <tr style=\"text-align: right;\">\n",
       "      <th></th>\n",
       "      <th>class</th>\n",
       "      <th>sms</th>\n",
       "      <th>length</th>\n",
       "      <th>sw_count</th>\n",
       "      <th>sc_count</th>\n",
       "      <th>hyperlink</th>\n",
       "      <th>digit_count</th>\n",
       "      <th>phone</th>\n",
       "      <th>smileys</th>\n",
       "      <th>weeb</th>\n",
       "      <th>upper_case</th>\n",
       "    </tr>\n",
       "  </thead>\n",
       "  <tbody>\n",
       "    <tr>\n",
       "      <th>0</th>\n",
       "      <td>0</td>\n",
       "      <td>Go until jurong point, crazy.. Available only ...</td>\n",
       "      <td>111</td>\n",
       "      <td>32</td>\n",
       "      <td>8</td>\n",
       "      <td>False</td>\n",
       "      <td>0</td>\n",
       "      <td>False</td>\n",
       "      <td>0</td>\n",
       "      <td>False</td>\n",
       "      <td>3</td>\n",
       "    </tr>\n",
       "    <tr>\n",
       "      <th>1</th>\n",
       "      <td>0</td>\n",
       "      <td>Ok lar... Joking wif u oni...</td>\n",
       "      <td>29</td>\n",
       "      <td>6</td>\n",
       "      <td>6</td>\n",
       "      <td>False</td>\n",
       "      <td>0</td>\n",
       "      <td>False</td>\n",
       "      <td>0</td>\n",
       "      <td>False</td>\n",
       "      <td>2</td>\n",
       "    </tr>\n",
       "    <tr>\n",
       "      <th>2</th>\n",
       "      <td>1</td>\n",
       "      <td>Free entry in 2 a wkly comp to win FA Cup fina...</td>\n",
       "      <td>155</td>\n",
       "      <td>43</td>\n",
       "      <td>1</td>\n",
       "      <td>False</td>\n",
       "      <td>25</td>\n",
       "      <td>True</td>\n",
       "      <td>0</td>\n",
       "      <td>False</td>\n",
       "      <td>10</td>\n",
       "    </tr>\n",
       "    <tr>\n",
       "      <th>3</th>\n",
       "      <td>0</td>\n",
       "      <td>U dun say so early hor... U c already then say...</td>\n",
       "      <td>49</td>\n",
       "      <td>17</td>\n",
       "      <td>6</td>\n",
       "      <td>False</td>\n",
       "      <td>0</td>\n",
       "      <td>False</td>\n",
       "      <td>0</td>\n",
       "      <td>False</td>\n",
       "      <td>2</td>\n",
       "    </tr>\n",
       "    <tr>\n",
       "      <th>4</th>\n",
       "      <td>0</td>\n",
       "      <td>Nah I don't think he goes to usf, he lives aro...</td>\n",
       "      <td>61</td>\n",
       "      <td>18</td>\n",
       "      <td>0</td>\n",
       "      <td>False</td>\n",
       "      <td>0</td>\n",
       "      <td>False</td>\n",
       "      <td>0</td>\n",
       "      <td>False</td>\n",
       "      <td>2</td>\n",
       "    </tr>\n",
       "  </tbody>\n",
       "</table>\n",
       "</div>"
      ],
      "text/plain": [
       "   class                                                sms  length  sw_count  \\\n",
       "0      0  Go until jurong point, crazy.. Available only ...     111        32   \n",
       "1      0                      Ok lar... Joking wif u oni...      29         6   \n",
       "2      1  Free entry in 2 a wkly comp to win FA Cup fina...     155        43   \n",
       "3      0  U dun say so early hor... U c already then say...      49        17   \n",
       "4      0  Nah I don't think he goes to usf, he lives aro...      61        18   \n",
       "\n",
       "   sc_count  hyperlink  digit_count  phone  smileys   weeb  upper_case  \n",
       "0         8      False            0  False        0  False           3  \n",
       "1         6      False            0  False        0  False           2  \n",
       "2         1      False           25   True        0  False          10  \n",
       "3         6      False            0  False        0  False           2  \n",
       "4         0      False            0  False        0  False           2  "
      ]
     },
     "execution_count": 25,
     "metadata": {},
     "output_type": "execute_result"
    }
   ],
   "source": [
    "df3['upper_case'] = count_list\n",
    "df3.head()"
   ]
  },
  {
   "cell_type": "markdown",
   "metadata": {},
   "source": [
    "While a lot of normal sms seem to have none upper-case characters, the spam emails tend to have more upper-case characters, which seems to confirm our. It might be a good idea to include the number of upper-case characters as a feature in our model."
   ]
  },
  {
   "cell_type": "markdown",
   "metadata": {},
   "source": [
    "### 2.3. Conclusion of data analysis before cleaning:"
   ]
  },
  {
   "cell_type": "markdown",
   "metadata": {},
   "source": [
    "The main conclusions of the data analysis are as follows:\n",
    "    \n",
    "1)Data set contains around 5600 sms  \n",
    "2)Unbalanced data set, i.e. 800 spam, 4800 not spam  \n",
    "3)Spam sms tend to be longer than not spam sms  \n",
    "4)Around 600 sms contain phone number, almost all are spam  \n",
    "5)Spam sms tend to have more upper-case letters than non-spam sms  "
   ]
  },
  {
   "cell_type": "markdown",
   "metadata": {},
   "source": [
    "# 3. Data Cleaning and additional analytics (after preprocessing):"
   ]
  },
  {
   "cell_type": "markdown",
   "metadata": {},
   "source": [
    "### 3.1. Stopword removal:"
   ]
  },
  {
   "cell_type": "markdown",
   "metadata": {},
   "source": [
    "We get rid of stopwords and certain punctuations (not dollar signs for example)"
   ]
  },
  {
   "cell_type": "code",
   "execution_count": 26,
   "metadata": {},
   "outputs": [
    {
     "data": {
      "text/html": [
       "<div>\n",
       "<style scoped>\n",
       "    .dataframe tbody tr th:only-of-type {\n",
       "        vertical-align: middle;\n",
       "    }\n",
       "\n",
       "    .dataframe tbody tr th {\n",
       "        vertical-align: top;\n",
       "    }\n",
       "\n",
       "    .dataframe thead th {\n",
       "        text-align: right;\n",
       "    }\n",
       "</style>\n",
       "<table border=\"1\" class=\"dataframe\">\n",
       "  <thead>\n",
       "    <tr style=\"text-align: right;\">\n",
       "      <th></th>\n",
       "      <th>class</th>\n",
       "      <th>sms</th>\n",
       "      <th>length</th>\n",
       "      <th>sw_count</th>\n",
       "      <th>sc_count</th>\n",
       "      <th>hyperlink</th>\n",
       "      <th>digit_count</th>\n",
       "      <th>phone</th>\n",
       "      <th>smileys</th>\n",
       "      <th>weeb</th>\n",
       "      <th>upper_case</th>\n",
       "      <th>tokens</th>\n",
       "    </tr>\n",
       "  </thead>\n",
       "  <tbody>\n",
       "    <tr>\n",
       "      <th>0</th>\n",
       "      <td>0</td>\n",
       "      <td>Go until jurong point, crazy.. Available only ...</td>\n",
       "      <td>111</td>\n",
       "      <td>32</td>\n",
       "      <td>8</td>\n",
       "      <td>False</td>\n",
       "      <td>0</td>\n",
       "      <td>False</td>\n",
       "      <td>0</td>\n",
       "      <td>False</td>\n",
       "      <td>3</td>\n",
       "      <td>[jurong, point, crazy  , available, bugis, gre...</td>\n",
       "    </tr>\n",
       "    <tr>\n",
       "      <th>1</th>\n",
       "      <td>0</td>\n",
       "      <td>Ok lar... Joking wif u oni...</td>\n",
       "      <td>29</td>\n",
       "      <td>6</td>\n",
       "      <td>6</td>\n",
       "      <td>False</td>\n",
       "      <td>0</td>\n",
       "      <td>False</td>\n",
       "      <td>0</td>\n",
       "      <td>False</td>\n",
       "      <td>2</td>\n",
       "      <td>[lar,    , joking, wif, oni,    ]</td>\n",
       "    </tr>\n",
       "    <tr>\n",
       "      <th>2</th>\n",
       "      <td>1</td>\n",
       "      <td>Free entry in 2 a wkly comp to win FA Cup fina...</td>\n",
       "      <td>155</td>\n",
       "      <td>43</td>\n",
       "      <td>1</td>\n",
       "      <td>False</td>\n",
       "      <td>25</td>\n",
       "      <td>True</td>\n",
       "      <td>0</td>\n",
       "      <td>False</td>\n",
       "      <td>10</td>\n",
       "      <td>[free, entry, wkly, comp, win, cup, final, tkt...</td>\n",
       "    </tr>\n",
       "    <tr>\n",
       "      <th>3</th>\n",
       "      <td>0</td>\n",
       "      <td>U dun say so early hor... U c already then say...</td>\n",
       "      <td>49</td>\n",
       "      <td>17</td>\n",
       "      <td>6</td>\n",
       "      <td>False</td>\n",
       "      <td>0</td>\n",
       "      <td>False</td>\n",
       "      <td>0</td>\n",
       "      <td>False</td>\n",
       "      <td>2</td>\n",
       "      <td>[dun, say, early, hor,    , already, say,    ]</td>\n",
       "    </tr>\n",
       "    <tr>\n",
       "      <th>4</th>\n",
       "      <td>0</td>\n",
       "      <td>Nah I don't think he goes to usf, he lives aro...</td>\n",
       "      <td>61</td>\n",
       "      <td>18</td>\n",
       "      <td>0</td>\n",
       "      <td>False</td>\n",
       "      <td>0</td>\n",
       "      <td>False</td>\n",
       "      <td>0</td>\n",
       "      <td>False</td>\n",
       "      <td>2</td>\n",
       "      <td>[nah, n t, think, goes, usf, lives, around, th...</td>\n",
       "    </tr>\n",
       "  </tbody>\n",
       "</table>\n",
       "</div>"
      ],
      "text/plain": [
       "   class                                                sms  length  sw_count  \\\n",
       "0      0  Go until jurong point, crazy.. Available only ...     111        32   \n",
       "1      0                      Ok lar... Joking wif u oni...      29         6   \n",
       "2      1  Free entry in 2 a wkly comp to win FA Cup fina...     155        43   \n",
       "3      0  U dun say so early hor... U c already then say...      49        17   \n",
       "4      0  Nah I don't think he goes to usf, he lives aro...      61        18   \n",
       "\n",
       "   sc_count  hyperlink  digit_count  phone  smileys   weeb  upper_case  \\\n",
       "0         8      False            0  False        0  False           3   \n",
       "1         6      False            0  False        0  False           2   \n",
       "2         1      False           25   True        0  False          10   \n",
       "3         6      False            0  False        0  False           2   \n",
       "4         0      False            0  False        0  False           2   \n",
       "\n",
       "                                              tokens  \n",
       "0  [jurong, point, crazy  , available, bugis, gre...  \n",
       "1                  [lar,    , joking, wif, oni,    ]  \n",
       "2  [free, entry, wkly, comp, win, cup, final, tkt...  \n",
       "3     [dun, say, early, hor,    , already, say,    ]  \n",
       "4  [nah, n t, think, goes, usf, lives, around, th...  "
      ]
     },
     "execution_count": 26,
     "metadata": {},
     "output_type": "execute_result"
    }
   ],
   "source": [
    "stopW = stopwords.words('english')\n",
    "special_characters = [\"@\", \"/\", \"#\", \".\", \",\", \"!\", \"?\", \"(\", \")\",\n",
    "                      \"-\", \"_\",\"’\",\"'\", \"\\\"\", \":\",\"=\",\"+\",\"&\"\n",
    "                      ,\"`\",\"*\",\"0\",\"1\",\"2\",\"3\",\"4\",\"5\",\n",
    "                      \"6\",\"7\",\"8\",\"9\",\"'\",'.','‘',';']\n",
    "transformation_sc_dict = {initial:\" \" for initial in special_characters}\n",
    "\n",
    "def preprocessing(sms):\n",
    "  \n",
    "    # Tokenization\n",
    "    tokens = word_tokenize(sms)\n",
    "    \n",
    "    # Deleting words with  only one caracter\n",
    "    tokens = [token for token in tokens if len(token)>2]\n",
    "    \n",
    "    # stopwords + lowercase\n",
    "    tokens = [token.lower() for token in tokens if token.lower() not in stopW]   \n",
    "    \n",
    "    # Deleting specific characters\n",
    "    tokens = [token.translate(str.maketrans(transformation_sc_dict)) for token in tokens]\n",
    "        \n",
    "    return tokens\n",
    "  \n",
    "\n",
    "# Creating a new column swith tokenized reviews\n",
    "df3['tokens'] = df3['sms'].apply(preprocessing)\n",
    "df3.head()"
   ]
  },
  {
   "cell_type": "code",
   "execution_count": 27,
   "metadata": {},
   "outputs": [],
   "source": [
    "# creating a list with all reviews and more pre-processing\n",
    "textos = df3.tokens.tolist()\n",
    "texts = [[text.strip() for text in sms] for sms in textos]\n",
    "clean_tokens = [[word for word in sms if word != ''] for sms in texts]\n",
    "df3['clean_tokens'] = clean_tokens"
   ]
  },
  {
   "cell_type": "markdown",
   "metadata": {},
   "source": [
    "    - Now we define a function to consistently plot the most frequent words:"
   ]
  },
  {
   "cell_type": "code",
   "execution_count": 28,
   "metadata": {},
   "outputs": [
    {
     "data": {
      "image/png": "[encoded data removed]",
      "text/plain": [
       "<Figure size 432x288 with 1 Axes>"
      ]
     },
     "metadata": {
      "needs_background": "light"
     },
     "output_type": "display_data"
    },
    {
     "name": "stdout",
     "output_type": "stream",
     "text": [
      "45175\n"
     ]
    }
   ],
   "source": [
    "def plot_frequent_words(list_of_words):    \n",
    "    dist = nltk.FreqDist(list_of_words)\n",
    "    X = [nb[1] for nb in dist.most_common(20)]\n",
    "    y = [nb[0] for nb in dist.most_common(20)]\n",
    "    ax = sns.barplot(X,y)\n",
    "    ax.set(xlabel='Word frequencies',ylabel='Words',title='Most common words in the corpus')\n",
    "    plt.show()\n",
    "\n",
    "all_words = []\n",
    "for sms in clean_tokens:\n",
    "    for text in sms:\n",
    "        all_words.append(text)\n",
    "    \n",
    "plot_frequent_words(all_words)\n",
    "print(len(all_words))"
   ]
  },
  {
   "cell_type": "markdown",
   "metadata": {},
   "source": [
    "### 3.2. Additional analytics after cleaning"
   ]
  },
  {
   "cell_type": "markdown",
   "metadata": {},
   "source": [
    "We can go more in detail and see the specificities of most frequent words in ham and spam seperately."
   ]
  },
  {
   "cell_type": "markdown",
   "metadata": {},
   "source": [
    "* Identifying spam and ham"
   ]
  },
  {
   "cell_type": "code",
   "execution_count": 29,
   "metadata": {},
   "outputs": [],
   "source": [
    "ind = df3.loc[:,\"class\"]==1\n",
    "df_spam = df3[ind]\n",
    "df_ham = df3[-ind]"
   ]
  },
  {
   "cell_type": "markdown",
   "metadata": {},
   "source": [
    "* Applying the previous pre-processing as before"
   ]
  },
  {
   "cell_type": "code",
   "execution_count": 30,
   "metadata": {},
   "outputs": [
    {
     "name": "stderr",
     "output_type": "stream",
     "text": [
      "C:\\Users\\rick\\Anaconda3\\lib\\site-packages\\ipykernel_launcher.py:2: SettingWithCopyWarning: \n",
      "A value is trying to be set on a copy of a slice from a DataFrame.\n",
      "Try using .loc[row_indexer,col_indexer] = value instead\n",
      "\n",
      "See the caveats in the documentation: http://pandas.pydata.org/pandas-docs/stable/indexing.html#indexing-view-versus-copy\n",
      "  \n",
      "C:\\Users\\rick\\Anaconda3\\lib\\site-packages\\ipykernel_launcher.py:3: SettingWithCopyWarning: \n",
      "A value is trying to be set on a copy of a slice from a DataFrame.\n",
      "Try using .loc[row_indexer,col_indexer] = value instead\n",
      "\n",
      "See the caveats in the documentation: http://pandas.pydata.org/pandas-docs/stable/indexing.html#indexing-view-versus-copy\n",
      "  This is separate from the ipykernel package so we can avoid doing imports until\n"
     ]
    }
   ],
   "source": [
    "# Separating ham and spam and pre-processing them:\n",
    "df_spam['tokens'] = df_spam['sms'].apply(preprocessing)\n",
    "df_ham['tokens'] = df_ham['sms'].apply(preprocessing)\n",
    "\n",
    "# creating a list with spam and ham respectively\n",
    "textos_spam = df_spam.tokens.tolist()\n",
    "textos_ham = df_ham.tokens.tolist()\n",
    "\n",
    "# Additionnal pre-processing\n",
    "texts_spam = [[text.strip() for text in sms] for sms in textos_spam]\n",
    "texts_ham = [[text.strip() for text in sms] for sms in textos_ham]\n",
    "\n",
    "clean_tokens_spam = [[word for word in sms if word != ''] for sms in texts_spam]\n",
    "clean_tokens_ham = [[word for word in sms if word != ''] for sms in texts_ham]"
   ]
  },
  {
   "cell_type": "markdown",
   "metadata": {},
   "source": [
    "* Plotting the results"
   ]
  },
  {
   "cell_type": "code",
   "execution_count": 31,
   "metadata": {},
   "outputs": [
    {
     "data": {
      "image/png": "[encoded data removed]",
      "text/plain": [
       "<Figure size 432x288 with 1 Axes>"
      ]
     },
     "metadata": {
      "needs_background": "light"
     },
     "output_type": "display_data"
    },
    {
     "name": "stdout",
     "output_type": "stream",
     "text": [
      "45175\n"
     ]
    },
    {
     "data": {
      "image/png": "[encoded data removed]",
      "text/plain": [
       "<Figure size 432x288 with 1 Axes>"
      ]
     },
     "metadata": {
      "needs_background": "light"
     },
     "output_type": "display_data"
    },
    {
     "name": "stdout",
     "output_type": "stream",
     "text": [
      "45175\n"
     ]
    }
   ],
   "source": [
    "all_words_ham = []\n",
    "for sms in clean_tokens_ham:\n",
    "    for text in sms:\n",
    "        all_words_ham.append(text)\n",
    "plot_frequent_words(all_words_ham)\n",
    "print(len(all_words))\n",
    "\n",
    "all_words_spam = []\n",
    "for sms in clean_tokens_spam:\n",
    "    for text in sms:\n",
    "        all_words_spam.append(text)\n",
    "plot_frequent_words(all_words_spam)\n",
    "print(len(all_words))"
   ]
  },
  {
   "cell_type": "markdown",
   "metadata": {},
   "source": [
    "We can already see that a few key-words will certainly help distinguish spam from ham : £, call, free, txt, mobile, prize etc... are buzzwords that you could expect from any commercial spam. Although we must be carefull as to not overfit our model and be able to detect only sms spams that resemble our data!"
   ]
  },
  {
   "cell_type": "markdown",
   "metadata": {},
   "source": [
    "### 3.3. Lemmatiztion"
   ]
  },
  {
   "cell_type": "markdown",
   "metadata": {},
   "source": [
    "We could consider using lemmatization to keep the root of the word only, although I don't think this might change much since we have a lot more grammar mistakes (done on purpose or not) given that sms are written more loosely. It might actually be an indicator for spam detection..."
   ]
  },
  {
   "cell_type": "markdown",
   "metadata": {},
   "source": [
    "* Applying lemmatization"
   ]
  },
  {
   "cell_type": "markdown",
   "metadata": {},
   "source": [
    "We just take the clean tokens that were preporcessed before for both ham and spam separately"
   ]
  },
  {
   "cell_type": "code",
   "execution_count": 32,
   "metadata": {},
   "outputs": [
    {
     "name": "stderr",
     "output_type": "stream",
     "text": [
      "C:\\Users\\rick\\Anaconda3\\lib\\site-packages\\ipykernel_launcher.py:1: SettingWithCopyWarning: \n",
      "A value is trying to be set on a copy of a slice from a DataFrame.\n",
      "Try using .loc[row_indexer,col_indexer] = value instead\n",
      "\n",
      "See the caveats in the documentation: http://pandas.pydata.org/pandas-docs/stable/indexing.html#indexing-view-versus-copy\n",
      "  \"\"\"Entry point for launching an IPython kernel.\n",
      "C:\\Users\\rick\\Anaconda3\\lib\\site-packages\\ipykernel_launcher.py:2: SettingWithCopyWarning: \n",
      "A value is trying to be set on a copy of a slice from a DataFrame.\n",
      "Try using .loc[row_indexer,col_indexer] = value instead\n",
      "\n",
      "See the caveats in the documentation: http://pandas.pydata.org/pandas-docs/stable/indexing.html#indexing-view-versus-copy\n",
      "  \n",
      "C:\\Users\\rick\\Anaconda3\\lib\\site-packages\\ipykernel_launcher.py:9: SettingWithCopyWarning: \n",
      "A value is trying to be set on a copy of a slice from a DataFrame.\n",
      "Try using .loc[row_indexer,col_indexer] = value instead\n",
      "\n",
      "See the caveats in the documentation: http://pandas.pydata.org/pandas-docs/stable/indexing.html#indexing-view-versus-copy\n",
      "  if __name__ == '__main__':\n",
      "C:\\Users\\rick\\Anaconda3\\lib\\site-packages\\ipykernel_launcher.py:10: SettingWithCopyWarning: \n",
      "A value is trying to be set on a copy of a slice from a DataFrame.\n",
      "Try using .loc[row_indexer,col_indexer] = value instead\n",
      "\n",
      "See the caveats in the documentation: http://pandas.pydata.org/pandas-docs/stable/indexing.html#indexing-view-versus-copy\n",
      "  # Remove the CWD from sys.path while we load stuff.\n"
     ]
    }
   ],
   "source": [
    "df_ham['clean_tokens'] = clean_tokens_ham\n",
    "df_spam['clean_tokens'] = clean_tokens_spam\n",
    "\n",
    "lemmatizer = WordNetLemmatizer()\n",
    "def lemmatize(tokens):\n",
    "    tokens = [lemmatizer.lemmatize(lemmatizer.lemmatize(lemmatizer.lemmatize(token,pos='a'),pos='v'),pos='n') for token in tokens]\n",
    "    return tokens  \n",
    "\n",
    "df_ham['Lemmatisation'] = df_ham['clean_tokens'].apply(lemmatize)\n",
    "df_spam['Lemmatisation'] = df_spam['clean_tokens'].apply(lemmatize)"
   ]
  },
  {
   "cell_type": "code",
   "execution_count": 33,
   "metadata": {},
   "outputs": [
    {
     "data": {
      "image/png": "[encoded data removed]",
      "text/plain": [
       "<Figure size 432x288 with 1 Axes>"
      ]
     },
     "metadata": {
      "needs_background": "light"
     },
     "output_type": "display_data"
    },
    {
     "name": "stdout",
     "output_type": "stream",
     "text": [
      "34844\n"
     ]
    },
    {
     "data": {
      "image/png": "[encoded data removed]",
      "text/plain": [
       "<Figure size 432x288 with 1 Axes>"
      ]
     },
     "metadata": {
      "needs_background": "light"
     },
     "output_type": "display_data"
    },
    {
     "name": "stdout",
     "output_type": "stream",
     "text": [
      "10331\n"
     ]
    }
   ],
   "source": [
    "all_words_ham = []\n",
    "for sms in df_ham['Lemmatisation']:\n",
    "    for text in sms:\n",
    "        all_words_ham.append(text)\n",
    "plot_frequent_words(all_words_ham)\n",
    "print(len(all_words_ham))\n",
    "\n",
    "all_words_spam = []\n",
    "for sms in df_spam['Lemmatisation']:\n",
    "    for text in sms:\n",
    "        all_words_spam.append(text)\n",
    "plot_frequent_words(all_words_spam)\n",
    "print(len(all_words_spam))"
   ]
  },
  {
   "cell_type": "markdown",
   "metadata": {},
   "source": [
    "We can't see any immediate effect but this might help for TF-IDF computations. Let's apply lemmatisation to our original data including both ham and spam:"
   ]
  },
  {
   "cell_type": "code",
   "execution_count": 34,
   "metadata": {},
   "outputs": [],
   "source": [
    "df3['Lemmatisation'] = df3['clean_tokens'].apply(lemmatize)"
   ]
  },
  {
   "cell_type": "markdown",
   "metadata": {},
   "source": [
    "### 3.4. Conclusion of EDA and preprocessing"
   ]
  },
  {
   "cell_type": "markdown",
   "metadata": {},
   "source": [
    "### CONCLUSION"
   ]
  },
  {
   "cell_type": "markdown",
   "metadata": {},
   "source": [
    "- Now that we have a good idea of what distinguishes spam sms from non-spam we can move on to predicting wether they appartein to one class or the other\n",
    "- We'll be considering two models, the first one being a Naïve Bayes classifier which will use NLP info translated numerically to distinguish sms\n",
    "- The second one will be an XGBoost classifier, which will use the features we've found throughout our EDA to classify spam and non-spam"
   ]
  },
  {
   "cell_type": "markdown",
   "metadata": {},
   "source": [
    "# 4. Naïve Bayes Classifier"
   ]
  },
  {
   "cell_type": "markdown",
   "metadata": {},
   "source": [
    "- Naïve bayes classification\n",
    "    - Probalistic classification method relying on Bayes formula and strong independence (hence the term naïve!)\n",
    "    - Use conditional law of X|y and law of y to retrieve an estimation of y|X\n",
    "    - Given the law of y|X classify as +1 if P(y|X) >= 1/2, 0 otherwise"
   ]
  },
  {
   "cell_type": "markdown",
   "metadata": {},
   "source": [
    "- Naïve bayes classification for spam detection\n",
    "    - Naïve Bayes classifier very famous for spam detection (emails, sms...)\n",
    "    - Uses NLP features such as wordcount, TF-IDF etc...\n",
    "    - We compare Naïve bayes with XGBoost (implemented in next section) to benchmark our models and check scalability"
   ]
  },
  {
   "cell_type": "markdown",
   "metadata": {},
   "source": [
    "### 4.1 Load in the data"
   ]
  },
  {
   "cell_type": "markdown",
   "metadata": {},
   "source": [
    "- Loading the data\n",
    "    - Naïve bayes classifier relies on NLP information retrieved from sms\n",
    "    - Thus it will have its own version of pre-processed sms as these are its features in essence\n",
    "    - We use a 80/20 train test split"
   ]
  },
  {
   "cell_type": "code",
   "execution_count": 36,
   "metadata": {},
   "outputs": [],
   "source": [
    "data = df3.copy()\n",
    "X = data['sms']\n",
    "y = data['class']\n",
    "\n",
    "#make train test split:\n",
    "X_train, X_test, y_train, y_test = train_test_split(X, y, test_size=0.2, random_state=111)"
   ]
  },
  {
   "cell_type": "markdown",
   "metadata": {},
   "source": [
    "### 4.2 Preprocessing the data"
   ]
  },
  {
   "cell_type": "markdown",
   "metadata": {},
   "source": [
    "- Pre-processing data\n",
    "    - As mentionned before, the processing is key for this classifier\n",
    "    - We reverse engineer the preprocessing we apply (stopwords, punctuation etc)\n",
    "    - Some characters are a major distinguisher between ham and spam (\"£\" for example!)"
   ]
  },
  {
   "cell_type": "code",
   "execution_count": 37,
   "metadata": {},
   "outputs": [],
   "source": [
    "def clean_text(text):\n",
    "    \n",
    "    # convert text to lowercase\n",
    "    text = text.strip().lower()\n",
    "    \n",
    "    # replace punctuation characters with spaces\n",
    "    filters='\"\\'%&()*,-./:;<=>?[\\\\]^_`{|}~\\t\\n'\n",
    "    translate_dict = dict((c, \" \") for c in filters)\n",
    "    translate_map = str.maketrans(translate_dict)\n",
    "    text = text.translate(translate_map)\n",
    "\n",
    "    return text"
   ]
  },
  {
   "cell_type": "markdown",
   "metadata": {},
   "source": [
    "### 4.3 Vectorization"
   ]
  },
  {
   "cell_type": "markdown",
   "metadata": {},
   "source": [
    "   - We need to transform strings into numerical data for the classifier to understand them\n",
    "   - Various methods exist, Wordcount and TF-IDF will be our focus here\n",
    "   - Drawbacks of wordcount will be explained in next slide"
   ]
  },
  {
   "cell_type": "code",
   "execution_count": 38,
   "metadata": {},
   "outputs": [
    {
     "data": {
      "image/png": "[encoded data removed]",
      "text/plain": [
       "<Figure size 432x288 with 1 Axes>"
      ]
     },
     "metadata": {
      "needs_background": "light"
     },
     "output_type": "display_data"
    }
   ],
   "source": [
    "#spam:\n",
    "ind = data.loc[:,\"class\"]==1\n",
    "data_spam=data[ind]\n",
    "sns.distplot(data_spam.loc[:,'length'],label=\"Spam\")\n",
    "\n",
    "#not spam:\n",
    "data_ham=data[-ind]\n",
    "ax = sns.distplot(data_ham.loc[:,'length'],label=\"no spam\")\n",
    "plt.legend()\n",
    "plt.title('length of sms')\n",
    "ax.set(xlabel='Number of characters in sms', ylabel='Frequency')\n",
    "plt.show()"
   ]
  },
  {
   "cell_type": "markdown",
   "metadata": {},
   "source": [
    "### 4.3.1 Wordcount vectorization"
   ]
  },
  {
   "cell_type": "markdown",
   "metadata": {},
   "source": [
    "   - As its title states it, we basically count the number of times a word appears in an sms\n",
    "   - Main drawback is that it is subject to the length of the sms (i.e higher count just because there are more words in an sms)\n",
    "   - The classifier computes conditional laws for classification on these transformed numerical features"
   ]
  },
  {
   "cell_type": "code",
   "execution_count": 39,
   "metadata": {},
   "outputs": [],
   "source": [
    "vectorizer = CountVectorizer(\n",
    "    stop_words=\"english\",\n",
    "    preprocessor=clean_text)\n",
    "\n",
    "data_train_count = vectorizer.fit_transform(X_train)\n",
    "data_test_count = vectorizer.transform(X_test)"
   ]
  },
  {
   "cell_type": "markdown",
   "metadata": {},
   "source": [
    "### 4.3.2. TF-IDF vectorization"
   ]
  },
  {
   "cell_type": "markdown",
   "metadata": {},
   "source": [
    "   - Solves length of sms problem mentionned in wordcount vectorization by weighting word counts (loosely speeaking)\n",
    "   - TF score(word,text) : # of word in text / total # of words in text | IDF score(word): log(# of texts/ # of texts where word appears)\n",
    "   - TF-IDF(word,text):"
   ]
  },
  {
   "cell_type": "code",
   "execution_count": 40,
   "metadata": {},
   "outputs": [],
   "source": [
    "vectorizer = TfidfVectorizer(\n",
    "    stop_words=\"english\",\n",
    "    preprocessor=clean_text)\n",
    "\n",
    "data_train_tfidf = vectorizer.fit_transform(X_train)\n",
    "data_test_tfidf = vectorizer.transform(X_test)"
   ]
  },
  {
   "cell_type": "markdown",
   "metadata": {},
   "source": [
    "### 4.4 Building the model"
   ]
  },
  {
   "cell_type": "markdown",
   "metadata": {},
   "source": [
    "### 4.4.1 Model using wordcount vectorization"
   ]
  },
  {
   "cell_type": "code",
   "execution_count": 41,
   "metadata": {},
   "outputs": [],
   "source": [
    "clf_count = MultinomialNB()\n",
    "clf_count.fit(data_train_count,y_train)\n",
    "\n",
    "#predict on test data:\n",
    "pred_count = clf_count.predict(data_test_count)\n",
    "pred_count_prob = clf_count.predict_proba(data_test_count)[:,1]"
   ]
  },
  {
   "cell_type": "markdown",
   "metadata": {},
   "source": [
    "### 4.4.2 Model using TF-IDF vectorization"
   ]
  },
  {
   "cell_type": "code",
   "execution_count": 42,
   "metadata": {},
   "outputs": [],
   "source": [
    "clf_tfidf = MultinomialNB()\n",
    "clf_tfidf.fit(data_train_tfidf,y_train)\n",
    "\n",
    "#predict on test data:\n",
    "pred_tfidf = clf_tfidf.predict(data_test_tfidf)\n",
    "pred_count_tfidf = clf_tfidf.predict_proba(data_test_tfidf)[:,1]"
   ]
  },
  {
   "cell_type": "markdown",
   "metadata": {},
   "source": [
    "### 4.5 Model evaluation"
   ]
  },
  {
   "cell_type": "markdown",
   "metadata": {},
   "source": [
    "### 4.5.1 Results for wordcount vectoriation"
   ]
  },
  {
   "cell_type": "code",
   "execution_count": 43,
   "metadata": {},
   "outputs": [
    {
     "name": "stdout",
     "output_type": "stream",
     "text": [
      "\n",
      "\n",
      "Using count vectorization\n",
      "\n",
      "\n",
      "Accuracy : 0.989237668161435\n",
      "Precision : 0.9647887323943662\n",
      "Sensitivity : 0.9513888888888888\n"
     ]
    }
   ],
   "source": [
    "print(\"\\n\")\n",
    "print(\"Using count vectorization\")\n",
    "print(\"\\n\")\n",
    "acc_count = accuracy_score(y_test,pred_count)\n",
    "prec_count = precision_score(y_test, pred_count)\n",
    "sens_count = recall_score(y_test,pred_count)\n",
    "\n",
    "print(\"Accuracy :\", acc_count)\n",
    "print(\"Precision :\", prec_count)\n",
    "print(\"Sensitivity :\", sens_count)"
   ]
  },
  {
   "cell_type": "code",
   "execution_count": 44,
   "metadata": {},
   "outputs": [
    {
     "name": "stdout",
     "output_type": "stream",
     "text": [
      "We correctly classified 137 sms as spam\n",
      "\n",
      "\n",
      "We correctly classified 966 sms as not spam\n",
      "\n",
      "\n",
      "We inccorrectly classified 5 sms as spam\n",
      "\n",
      "\n",
      "We inccorrectly classified 7 sms as not spam\n",
      "\n",
      "\n"
     ]
    },
    {
     "data": {
      "image/png": "[encoded data removed]",
      "text/plain": [
       "<Figure size 432x288 with 1 Axes>"
      ]
     },
     "metadata": {
      "needs_background": "light"
     },
     "output_type": "display_data"
    }
   ],
   "source": [
    "confusion = metrics.confusion_matrix(y_test, pred_count)\n",
    "sns.heatmap(confusion, annot = True, cbar = False, square = True, cmap = 'Blues', fmt = 'g', linewidths = 0.5)\n",
    "\n",
    "TP = confusion[1, 1]\n",
    "TN = confusion[0, 0]\n",
    "FP = confusion[0, 1]\n",
    "FN = confusion[1, 0]\n",
    "\n",
    "print(\"We correctly classified\",TP,\"sms as spam\")\n",
    "print(\"\\n\")\n",
    "print(\"We correctly classified\",TN,\"sms as not spam\")\n",
    "print(\"\\n\")\n",
    "print(\"We inccorrectly classified\",FP,\"sms as spam\")\n",
    "print(\"\\n\")\n",
    "print(\"We inccorrectly classified\",FN,\"sms as not spam\")\n",
    "print(\"\\n\")"
   ]
  },
  {
   "cell_type": "code",
   "execution_count": 45,
   "metadata": {},
   "outputs": [
    {
     "name": "stdout",
     "output_type": "stream",
     "text": [
      "AUC score : 0.9973752717702254\n",
      "\n",
      "\n"
     ]
    },
    {
     "data": {
      "image/png": "[encoded data removed]",
      "text/plain": [
       "<Figure size 432x288 with 1 Axes>"
      ]
     },
     "metadata": {
      "needs_background": "light"
     },
     "output_type": "display_data"
    }
   ],
   "source": [
    "fpr, tpr, thresholds = metrics.roc_curve(y_test,pred_count_prob)\n",
    "\n",
    "plt.plot(fpr, tpr)\n",
    "plt.xlim([-0.1, 1.1])\n",
    "plt.ylim([-0.1, 1.1])\n",
    "plt.rcParams['font.size'] = 12\n",
    "plt.title('ROC curve for spam classifier using count vectorization')\n",
    "plt.xlabel('False Positive Rate (1 - Specificity)')\n",
    "plt.ylabel('True Positive Rate (Sensitivity)')\n",
    "plt.grid(True)\n",
    "print(\"AUC score :\",metrics.roc_auc_score(y_test, pred_count_prob))\n",
    "print(\"\\n\")"
   ]
  },
  {
   "cell_type": "markdown",
   "metadata": {},
   "source": [
    "### 4.5.2 Results for TF-IDF vectorization"
   ]
  },
  {
   "cell_type": "code",
   "execution_count": 46,
   "metadata": {},
   "outputs": [
    {
     "name": "stdout",
     "output_type": "stream",
     "text": [
      "\n",
      "\n",
      "Using TF-IDF vectorization\n",
      "\n",
      "\n",
      "Accuracy : 0.9721973094170404\n",
      "Precision : 1.0\n",
      "Sensitivity : 0.7847222222222222\n"
     ]
    }
   ],
   "source": [
    "print(\"\\n\")\n",
    "print(\"Using TF-IDF vectorization\")\n",
    "print(\"\\n\")\n",
    "\n",
    "acc_tfidf = accuracy_score(y_test,pred_tfidf)\n",
    "prec_tfidf = precision_score(y_test, pred_tfidf)\n",
    "sens_tfidf = recall_score(y_test,pred_tfidf)\n",
    "\n",
    "print(\"Accuracy :\", acc_tfidf)\n",
    "print(\"Precision :\", prec_tfidf)\n",
    "print(\"Sensitivity :\", sens_tfidf)"
   ]
  },
  {
   "cell_type": "code",
   "execution_count": 47,
   "metadata": {},
   "outputs": [
    {
     "name": "stdout",
     "output_type": "stream",
     "text": [
      "We correctly classified 113 sms as spam\n",
      "\n",
      "\n",
      "We correctly classified  971  sms as not spam\n",
      "\n",
      "\n",
      "We inccorrectly classified  0  sms as spam\n",
      "\n",
      "\n",
      "We inccorrectly classified  31  sms as not spam\n",
      "\n",
      "\n"
     ]
    },
    {
     "data": {
      "image/png": "[encoded data removed]",
      "text/plain": [
       "<Figure size 432x288 with 1 Axes>"
      ]
     },
     "metadata": {
      "needs_background": "light"
     },
     "output_type": "display_data"
    }
   ],
   "source": [
    "confusion = metrics.confusion_matrix(y_test, pred_tfidf)\n",
    "sns.heatmap(confusion, annot = True, cbar = False, square = True, cmap = 'Blues', fmt = 'g', linewidths = 0.5)\n",
    "\n",
    "TP = confusion[1, 1]\n",
    "TN = confusion[0, 0]\n",
    "FP = confusion[0, 1]\n",
    "FN = confusion[1, 0]\n",
    "\n",
    "print(\"We correctly classified\",TP,\"sms as spam\")\n",
    "print(\"\\n\")\n",
    "print(\"We correctly classified \",TN,\" sms as not spam\")\n",
    "print(\"\\n\")\n",
    "print(\"We inccorrectly classified \",FP,\" sms as spam\")\n",
    "print(\"\\n\")\n",
    "print(\"We inccorrectly classified \",FN,\" sms as not spam\")\n",
    "print(\"\\n\")"
   ]
  },
  {
   "cell_type": "code",
   "execution_count": 48,
   "metadata": {},
   "outputs": [
    {
     "name": "stdout",
     "output_type": "stream",
     "text": [
      "AUC score : 0.9955658542167297\n",
      "\n",
      "\n"
     ]
    },
    {
     "data": {
      "image/png": "[encoded data removed]",
      "text/plain": [
       "<Figure size 432x288 with 1 Axes>"
      ]
     },
     "metadata": {
      "needs_background": "light"
     },
     "output_type": "display_data"
    }
   ],
   "source": [
    "fpr, tpr, thresholds = metrics.roc_curve(y_test,pred_count_tfidf)\n",
    "\n",
    "plt.plot(fpr, tpr)\n",
    "plt.xlim([-0.1, 1.1])\n",
    "plt.ylim([-0.1, 1.1])\n",
    "plt.rcParams['font.size'] = 12\n",
    "plt.title('ROC curve for spam classifier using TF-IDF vectorization')\n",
    "plt.xlabel('False Positive Rate (1 - Specificity)')\n",
    "plt.ylabel('True Positive Rate (Sensitivity)')\n",
    "plt.grid(True)\n",
    "print(\"AUC score :\",metrics.roc_auc_score(y_test, pred_count_tfidf))\n",
    "print(\"\\n\")"
   ]
  },
  {
   "cell_type": "markdown",
   "metadata": {},
   "source": [
    "### 4.6. Conclusion"
   ]
  },
  {
   "cell_type": "markdown",
   "metadata": {},
   "source": [
    "   - What matters the most for us is to not classify non-spam sms as spam (False positives must be 0)\n",
    "   - We can see that TF-IDF vectorization does exactly that but at the cost of more spam not being correctly classified (more Fasle Negatives)\n",
    "   - Wordcount vectorization has some False positives, we thus prefer TF-IDF vectorization over Wordcount"
   ]
  },
  {
   "cell_type": "markdown",
   "metadata": {},
   "source": [
    "   - Disregarding these details both models are very precise and accurate\n",
    "   - the auc score is very similar for both \n",
    "   - We'll see how XGBoost fares in comparison in the next section"
   ]
  },
  {
   "cell_type": "markdown",
   "metadata": {},
   "source": [
    "# 5. Extreme Gradient Boosting (XGBoost) Classifier"
   ]
  },
  {
   "cell_type": "markdown",
   "metadata": {},
   "source": [
    "- Extreme Gradient Boosting method\n",
    "- Boosting: ensemble learning technique of building many models sequentially\n",
    "    - new model attempting to correct for the deficiencies in the previous model\n",
    "    - this is an ensemble method that seeks to create a strong classifier (model) based on “weak” classifiers\n",
    "-\tGradient boosting:  updating model using gradient descent\n",
    "-\tXGBoost implements this algorithm for decision tree boosting\n",
    "\n",
    "![Drag Racing -fullwidth](mystery-box.jpg)\n"
   ]
  },
  {
   "cell_type": "markdown",
   "metadata": {},
   "source": [
    "### 5.1. Load and prepare data for XGBoost"
   ]
  },
  {
   "cell_type": "code",
   "execution_count": 49,
   "metadata": {},
   "outputs": [
    {
     "data": {
      "text/html": [
       "<div>\n",
       "<style scoped>\n",
       "    .dataframe tbody tr th:only-of-type {\n",
       "        vertical-align: middle;\n",
       "    }\n",
       "\n",
       "    .dataframe tbody tr th {\n",
       "        vertical-align: top;\n",
       "    }\n",
       "\n",
       "    .dataframe thead th {\n",
       "        text-align: right;\n",
       "    }\n",
       "</style>\n",
       "<table border=\"1\" class=\"dataframe\">\n",
       "  <thead>\n",
       "    <tr style=\"text-align: right;\">\n",
       "      <th></th>\n",
       "      <th>class</th>\n",
       "      <th>sms</th>\n",
       "      <th>length</th>\n",
       "      <th>sw_count</th>\n",
       "      <th>sc_count</th>\n",
       "      <th>hyperlink</th>\n",
       "      <th>digit_count</th>\n",
       "      <th>phone</th>\n",
       "      <th>smileys</th>\n",
       "      <th>weeb</th>\n",
       "      <th>upper_case</th>\n",
       "      <th>tokens</th>\n",
       "      <th>clean_tokens</th>\n",
       "      <th>Lemmatisation</th>\n",
       "    </tr>\n",
       "  </thead>\n",
       "  <tbody>\n",
       "    <tr>\n",
       "      <th>0</th>\n",
       "      <td>0</td>\n",
       "      <td>Go until jurong point, crazy.. Available only ...</td>\n",
       "      <td>111</td>\n",
       "      <td>32</td>\n",
       "      <td>8</td>\n",
       "      <td>False</td>\n",
       "      <td>0</td>\n",
       "      <td>False</td>\n",
       "      <td>0</td>\n",
       "      <td>False</td>\n",
       "      <td>3</td>\n",
       "      <td>[jurong, point, crazy  , available, bugis, gre...</td>\n",
       "      <td>[jurong, point, crazy, available, bugis, great...</td>\n",
       "      <td>[jurong, point, crazy, available, bugis, great...</td>\n",
       "    </tr>\n",
       "    <tr>\n",
       "      <th>1</th>\n",
       "      <td>0</td>\n",
       "      <td>Ok lar... Joking wif u oni...</td>\n",
       "      <td>29</td>\n",
       "      <td>6</td>\n",
       "      <td>6</td>\n",
       "      <td>False</td>\n",
       "      <td>0</td>\n",
       "      <td>False</td>\n",
       "      <td>0</td>\n",
       "      <td>False</td>\n",
       "      <td>2</td>\n",
       "      <td>[lar,    , joking, wif, oni,    ]</td>\n",
       "      <td>[lar, joking, wif, oni]</td>\n",
       "      <td>[lar, joke, wif, oni]</td>\n",
       "    </tr>\n",
       "    <tr>\n",
       "      <th>2</th>\n",
       "      <td>1</td>\n",
       "      <td>Free entry in 2 a wkly comp to win FA Cup fina...</td>\n",
       "      <td>155</td>\n",
       "      <td>43</td>\n",
       "      <td>1</td>\n",
       "      <td>False</td>\n",
       "      <td>25</td>\n",
       "      <td>True</td>\n",
       "      <td>0</td>\n",
       "      <td>False</td>\n",
       "      <td>10</td>\n",
       "      <td>[free, entry, wkly, comp, win, cup, final, tkt...</td>\n",
       "      <td>[free, entry, wkly, comp, win, cup, final, tkt...</td>\n",
       "      <td>[free, entry, wkly, comp, win, cup, final, tkt...</td>\n",
       "    </tr>\n",
       "  </tbody>\n",
       "</table>\n",
       "</div>"
      ],
      "text/plain": [
       "   class                                                sms  length  sw_count  \\\n",
       "0      0  Go until jurong point, crazy.. Available only ...     111        32   \n",
       "1      0                      Ok lar... Joking wif u oni...      29         6   \n",
       "2      1  Free entry in 2 a wkly comp to win FA Cup fina...     155        43   \n",
       "\n",
       "   sc_count  hyperlink  digit_count  phone  smileys   weeb  upper_case  \\\n",
       "0         8      False            0  False        0  False           3   \n",
       "1         6      False            0  False        0  False           2   \n",
       "2         1      False           25   True        0  False          10   \n",
       "\n",
       "                                              tokens  \\\n",
       "0  [jurong, point, crazy  , available, bugis, gre...   \n",
       "1                  [lar,    , joking, wif, oni,    ]   \n",
       "2  [free, entry, wkly, comp, win, cup, final, tkt...   \n",
       "\n",
       "                                        clean_tokens  \\\n",
       "0  [jurong, point, crazy, available, bugis, great...   \n",
       "1                            [lar, joking, wif, oni]   \n",
       "2  [free, entry, wkly, comp, win, cup, final, tkt...   \n",
       "\n",
       "                                       Lemmatisation  \n",
       "0  [jurong, point, crazy, available, bugis, great...  \n",
       "1                              [lar, joke, wif, oni]  \n",
       "2  [free, entry, wkly, comp, win, cup, final, tkt...  "
      ]
     },
     "execution_count": 49,
     "metadata": {},
     "output_type": "execute_result"
    }
   ],
   "source": [
    "#import file with features:\n",
    "xgbdata = df3.copy()\n",
    "xgbdata.head(3)"
   ]
  },
  {
   "cell_type": "code",
   "execution_count": 50,
   "metadata": {},
   "outputs": [
    {
     "data": {
      "text/html": [
       "<div>\n",
       "<style scoped>\n",
       "    .dataframe tbody tr th:only-of-type {\n",
       "        vertical-align: middle;\n",
       "    }\n",
       "\n",
       "    .dataframe tbody tr th {\n",
       "        vertical-align: top;\n",
       "    }\n",
       "\n",
       "    .dataframe thead th {\n",
       "        text-align: right;\n",
       "    }\n",
       "</style>\n",
       "<table border=\"1\" class=\"dataframe\">\n",
       "  <thead>\n",
       "    <tr style=\"text-align: right;\">\n",
       "      <th></th>\n",
       "      <th>class</th>\n",
       "      <th>length</th>\n",
       "      <th>sc_count</th>\n",
       "      <th>hyperlink</th>\n",
       "      <th>digit_count</th>\n",
       "      <th>smileys</th>\n",
       "      <th>upper_case</th>\n",
       "    </tr>\n",
       "  </thead>\n",
       "  <tbody>\n",
       "    <tr>\n",
       "      <th>0</th>\n",
       "      <td>0</td>\n",
       "      <td>111</td>\n",
       "      <td>8</td>\n",
       "      <td>0</td>\n",
       "      <td>0</td>\n",
       "      <td>0</td>\n",
       "      <td>3</td>\n",
       "    </tr>\n",
       "    <tr>\n",
       "      <th>1</th>\n",
       "      <td>0</td>\n",
       "      <td>29</td>\n",
       "      <td>6</td>\n",
       "      <td>0</td>\n",
       "      <td>0</td>\n",
       "      <td>0</td>\n",
       "      <td>2</td>\n",
       "    </tr>\n",
       "    <tr>\n",
       "      <th>2</th>\n",
       "      <td>1</td>\n",
       "      <td>155</td>\n",
       "      <td>1</td>\n",
       "      <td>0</td>\n",
       "      <td>25</td>\n",
       "      <td>0</td>\n",
       "      <td>10</td>\n",
       "    </tr>\n",
       "    <tr>\n",
       "      <th>3</th>\n",
       "      <td>0</td>\n",
       "      <td>49</td>\n",
       "      <td>6</td>\n",
       "      <td>0</td>\n",
       "      <td>0</td>\n",
       "      <td>0</td>\n",
       "      <td>2</td>\n",
       "    </tr>\n",
       "    <tr>\n",
       "      <th>4</th>\n",
       "      <td>0</td>\n",
       "      <td>61</td>\n",
       "      <td>0</td>\n",
       "      <td>0</td>\n",
       "      <td>0</td>\n",
       "      <td>0</td>\n",
       "      <td>2</td>\n",
       "    </tr>\n",
       "  </tbody>\n",
       "</table>\n",
       "</div>"
      ],
      "text/plain": [
       "   class  length  sc_count  hyperlink  digit_count  smileys  upper_case\n",
       "0      0     111         8          0            0        0           3\n",
       "1      0      29         6          0            0        0           2\n",
       "2      1     155         1          0           25        0          10\n",
       "3      0      49         6          0            0        0           2\n",
       "4      0      61         0          0            0        0           2"
      ]
     },
     "execution_count": 50,
     "metadata": {},
     "output_type": "execute_result"
    }
   ],
   "source": [
    "#change False to 0 and True to 1:\n",
    "#define function:\n",
    "def bool_to_bin(colname):\n",
    "    index_false = xgbdata.loc[:,colname]==False\n",
    "    xgbdata.loc[index_false,colname]=0\n",
    "    xgbdata.loc[-index_false,colname]=1\n",
    "\n",
    "bool_to_bin(\"hyperlink\")\n",
    "bool_to_bin(\"phone\")\n",
    "bool_to_bin(\"weeb\")\n",
    "\n",
    "xgbdata = xgbdata.loc[:,[\"class\",\"length\",\"sc_count\",\"hyperlink\",\"digit_count\",\"smileys\",\"upper_case\"]]\n",
    "\n",
    "xgbdata.head(5)"
   ]
  },
  {
   "cell_type": "code",
   "execution_count": 51,
   "metadata": {},
   "outputs": [],
   "source": [
    "#separate data in target and predictor variables:\n",
    "X = xgbdata.iloc[:,1:]\n",
    "y = xgbdata.iloc[:,0]\n",
    "\n",
    "#transform into Dmatrix (faster and supported by xgboost):\n",
    "dmatrix = xgb.DMatrix(data=X,label=y)"
   ]
  },
  {
   "cell_type": "code",
   "execution_count": 52,
   "metadata": {},
   "outputs": [],
   "source": [
    "#make train test split (80-20)\n",
    "X_train, X_test, y_train, y_test = train_test_split(X, y, test_size=0.15, random_state=111)\n",
    "#set seed in order to be able to reproduce results"
   ]
  },
  {
   "cell_type": "markdown",
   "metadata": {},
   "source": [
    "### 5.2 Fine-tuning of the XGBoost model with Cross-Validation"
   ]
  },
  {
   "cell_type": "code",
   "execution_count": 53,
   "metadata": {},
   "outputs": [],
   "source": [
    "%%capture\n",
    "#CROSS VALIDATION \n",
    "\n",
    "\n",
    "#generate classifier:\n",
    "params={\"max_depth\":5, \n",
    "        \"min_child_weight\":2, \n",
    "        \"eta\": 0.1, \n",
    "        \"subsamples\":0.9, \n",
    "        \"objective\" : \"binary:logistic\", \n",
    "        \"eval_metric\": [\"error\",\"logloss\",\"auc\"]}\n",
    "rounds = 200\n",
    "result = xgb.cv(params=params, nfold=5, dtrain=dmatrix, num_boost_round=rounds, as_pandas=True, seed=10,early_stopping_rounds=50)\n"
   ]
  },
  {
   "cell_type": "code",
   "execution_count": 54,
   "metadata": {},
   "outputs": [
    {
     "data": {
      "text/plain": [
       "train-auc-mean        0.998079\n",
       "train-auc-std         0.000272\n",
       "train-error-mean      0.010002\n",
       "train-error-std       0.000703\n",
       "train-logloss-mean    0.032821\n",
       "train-logloss-std     0.001845\n",
       "test-auc-mean         0.990494\n",
       "test-auc-std          0.004447\n",
       "test-error-mean       0.015428\n",
       "test-error-std        0.003419\n",
       "test-logloss-mean     0.057447\n",
       "test-logloss-std      0.009932\n",
       "Name: 105, dtype: float64"
      ]
     },
     "execution_count": 54,
     "metadata": {},
     "output_type": "execute_result"
    }
   ],
   "source": [
    "result.iloc[105,:]"
   ]
  },
  {
   "cell_type": "markdown",
   "metadata": {},
   "source": [
    "- early stopping: 106 --> num_boosting_rounds = 106\n",
    "- max_depth: maximum depth of a tree -> increasing this value will make the model more complex and more likely to overfit\n",
    "    - max_depth = 5\n",
    "- min_child_weight: corresponds to minimum number of instances needed to be in each node. The larger min_child_weight is, the more conservative the algorithm will be.\n",
    "    - min_child_weight = 2\n",
    "- eta: Step size shrinkage used in update to prevents overfitting\n",
    "    - eta = 0.1\n",
    "- subsample: Subsample ratio of the training instances. Setting it to 0.5 means that XGBoost would randomly sample half of the training data prior to growing trees\n",
    "    - subsample = 0.9"
   ]
  },
  {
   "cell_type": "code",
   "execution_count": 55,
   "metadata": {},
   "outputs": [
    {
     "data": {
      "image/png": "[encoded data removed]",
      "text/plain": [
       "<Figure size 1440x720 with 3 Axes>"
      ]
     },
     "metadata": {
      "needs_background": "light"
     },
     "output_type": "display_data"
    }
   ],
   "source": [
    "test_error = result.loc[:,\"test-error-mean\"]\n",
    "train_error = result.loc[:,\"train-error-mean\"]\n",
    "test_logloss = result.loc[:,\"test-logloss-mean\"]\n",
    "train_logloss = result.loc[:,\"train-logloss-mean\"]\n",
    "test_auc = result.loc[:,\"test-auc-mean\"]\n",
    "train_auc = result.loc[:,\"train-auc-mean\"]\n",
    "n = range(len(test_auc))\n",
    "\n",
    "fig = plt.figure(figsize=(20, 10))\n",
    "ax1 = fig.add_subplot(3,1,1)\n",
    "ax2 = fig.add_subplot(3,1,2)\n",
    "ax3 = fig.add_subplot(3,1,3)\n",
    "\n",
    "sns.lineplot(n,test_error,ax=ax1,label=\"test error\")\n",
    "sns.lineplot(n,train_error,ax=ax1, label=\"train error\")\n",
    "ax1.set_title(\"Test error in function of number of boosting rounds\")\n",
    "ax1.legend()\n",
    "\n",
    "sns.lineplot(n,test_logloss,ax=ax2,label=\"test logloss\")\n",
    "sns.lineplot(n,train_logloss,ax=ax2,label=\"train logloss\")\n",
    "ax2.set_title(\"Logloss in function of number of boosting rounds\")\n",
    "ax2.legend()\n",
    "\n",
    "sns.lineplot(n,test_auc,ax=ax3,label=\"test AUC-score\")\n",
    "sns.lineplot(n,train_auc,ax=ax3,label=\"train AUC-score\")\n",
    "ax3.set_title(\"AUC score in function of number of boosting rounds\")\n",
    "ax3.legend()\n",
    "\n",
    "plt.show()"
   ]
  },
  {
   "cell_type": "markdown",
   "metadata": {},
   "source": [
    "### 5.3Train the model and evaluate it on test set"
   ]
  },
  {
   "cell_type": "code",
   "execution_count": 56,
   "metadata": {},
   "outputs": [
    {
     "data": {
      "text/plain": [
       "['xg_reg2.bin']"
      ]
     },
     "execution_count": 56,
     "metadata": {},
     "output_type": "execute_result"
    }
   ],
   "source": [
    "\n",
    "xg_reg = xgb.XGBRegressor(max_depth=5,\n",
    "                          eta = 0.1,\n",
    "                          min_child_weight = 2,\n",
    "                          subsamples = 0.9,\n",
    "                          objective = \"binary:logistic\",\n",
    "                          num_boost_round=106\n",
    "                         )\n",
    "#make prediction:\n",
    "xg_reg.fit(X_train,y_train)\n",
    "\n",
    "xg_reg.save_model(\"xg_reg\")\n",
    "import joblib\n",
    "joblib.dump(xg_reg,\"xg_reg2.bin\")\n"
   ]
  },
  {
   "cell_type": "markdown",
   "metadata": {},
   "source": [
    "We see that all the metrics converge with the number of boosting rounds. There seems to be no issue with overfitting either. As such, lets chooser 50 boosting rounds for the following tests."
   ]
  },
  {
   "cell_type": "code",
   "execution_count": 57,
   "metadata": {},
   "outputs": [
    {
     "name": "stdout",
     "output_type": "stream",
     "text": [
      "Accuracy for test set: 98.81%\n"
     ]
    }
   ],
   "source": [
    "#TEST ERROR:\n",
    "y_pred = xg_reg.predict(X_test)\n",
    "predictions = [round(value) for value in y_pred]\n",
    "# evaluate predictions\n",
    "accuracy2 = accuracy_score(y_test, predictions)\n",
    "print(\"Accuracy for test set: %.2f%%\" % (accuracy2 * 100.0))\n"
   ]
  },
  {
   "cell_type": "code",
   "execution_count": 58,
   "metadata": {},
   "outputs": [
    {
     "name": "stderr",
     "output_type": "stream",
     "text": [
      "C:\\Users\\rick\\Anaconda3\\lib\\site-packages\\scipy\\stats\\stats.py:1713: FutureWarning: Using a non-tuple sequence for multidimensional indexing is deprecated; use `arr[tuple(seq)]` instead of `arr[seq]`. In the future this will be interpreted as an array index, `arr[np.array(seq)]`, which will result either in an error or a different result.\n",
      "  return np.add.reduce(sorted[indexer] * weights, axis=axis) / sumval\n"
     ]
    },
    {
     "name": "stdout",
     "output_type": "stream",
     "text": [
      "0.9937158469945355\n"
     ]
    },
    {
     "data": {
      "image/png": "[encoded data removed]",
      "text/plain": [
       "<Figure size 432x288 with 1 Axes>"
      ]
     },
     "metadata": {
      "needs_background": "light"
     },
     "output_type": "display_data"
    }
   ],
   "source": [
    "#plot area under the curve:\n",
    "roc = roc_curve(y_test,y_pred)\n",
    "x = roc[0]\n",
    "y = roc[1]\n",
    "sns.lineplot(x,y)\n",
    "print(roc_auc_score(y_test,y_pred))\n"
   ]
  },
  {
   "cell_type": "code",
   "execution_count": 59,
   "metadata": {},
   "outputs": [
    {
     "data": {
      "text/plain": [
       "<matplotlib.axes._subplots.AxesSubplot at 0x15342c874e0>"
      ]
     },
     "execution_count": 59,
     "metadata": {},
     "output_type": "execute_result"
    },
    {
     "data": {
      "image/png": "[encoded data removed]",
      "text/plain": [
       "<Figure size 432x288 with 1 Axes>"
      ]
     },
     "metadata": {
      "needs_background": "light"
     },
     "output_type": "display_data"
    }
   ],
   "source": [
    "#generate a confusion matrix\n",
    "cm = confusion_matrix(y_test,np.round(y_pred))\n",
    "sns.heatmap(cm,annot=True,cbar=False,square=True,cmap='Blues',fmt='g',linewidths=0.5)\n"
   ]
  },
  {
   "cell_type": "markdown",
   "metadata": {},
   "source": [
    "### 5.4 Model Interpretation: "
   ]
  },
  {
   "cell_type": "code",
   "execution_count": 60,
   "metadata": {},
   "outputs": [
    {
     "data": {
      "text/plain": [
       "<matplotlib.axes._subplots.AxesSubplot at 0x15342d5eef0>"
      ]
     },
     "execution_count": 60,
     "metadata": {},
     "output_type": "execute_result"
    },
    {
     "data": {
      "image/png": "[encoded data removed]",
      "text/plain": [
       "<Figure size 432x288 with 1 Axes>"
      ]
     },
     "metadata": {
      "needs_background": "light"
     },
     "output_type": "display_data"
    },
    {
     "data": {
      "image/png": "[encoded data removed]",
      "text/plain": [
       "<Figure size 432x288 with 1 Axes>"
      ]
     },
     "metadata": {
      "needs_background": "light"
     },
     "output_type": "display_data"
    },
    {
     "data": {
      "image/png": "[encoded data removed]",
      "text/plain": [
       "<Figure size 432x288 with 1 Axes>"
      ]
     },
     "metadata": {
      "needs_background": "light"
     },
     "output_type": "display_data"
    }
   ],
   "source": [
    "# plot feature importance\n",
    "xgb.plot_importance(xg_reg,importance_type=\"weight\")\n",
    "xgb.plot_importance(xg_reg,importance_type=\"cover\")\n",
    "xgb.plot_importance(xg_reg,importance_type=\"gain\")\n"
   ]
  },
  {
   "cell_type": "markdown",
   "metadata": {},
   "source": [
    "- result completely different, why?\n",
    "    - weight: The number of times a feature is used to split the data across all trees\n",
    "    - cover: The number of times a feature is used to split the data across all trees weighted by the number of training data points that go through those splits\n",
    "    - gain: The average training loss reduction gained when using a feature for splitting\n",
    "- Which one to choose? Problem: Neither one of the 3 is consitent\n",
    "    - consitecy:  Whenever we change a model such that it relies more on a feature, then the attributed importance for that feature should not decrease\n",
    "    \n",
    "Tree SHAP method is mathematically equivalent to averaging differences in predictions over all possible orderings of the features, rather than just the ordering specified by their position in the tree -> consistent"
   ]
  },
  {
   "cell_type": "code",
   "execution_count": 61,
   "metadata": {},
   "outputs": [],
   "source": [
    "#import shap\n",
    "#shap.TreeExplainer(xg_reg).shap_values(X_train) \n",
    "#call shap.summary_plot(shap_values, X_train)"
   ]
  },
  {
   "cell_type": "markdown",
   "metadata": {},
   "source": [
    "# 6. Conclusion"
   ]
  },
  {
   "cell_type": "markdown",
   "metadata": {},
   "source": [
    "- Summary of results:\n",
    "    - Naive Bayes:\n",
    "        - Wordcount vectorization\n",
    "            - Accuracy = 0.9892\n",
    "            - AUC score = 0.9966\n",
    "            - Number of FP = 5\n",
    "            - Number of FN = 7\n",
    "        - TF-IDF vectorization\n",
    "            - Accuracy = 0.9713\n",
    "            - AUC score = 0.9948\n",
    "            - Number of FP = 0\n",
    "            - Number of FN = 31\n",
    "    - XGBoost:\n",
    "        - Specific features extracted from SMS\n",
    "            - Accuracy = 0.9881\n",
    "            - AUC score = 0.9937\n",
    "            - Number of FP = 3\n",
    "            - Number of FN = 7\n",
    "- As we want no FP, we chose TF-IDF vectoization with Naive Bayes\n",
    "- A lot of potential for the XGBoost model\n",
    "- Future work:\n",
    "    - Try XGBoost on TF-IDF vectorization\n",
    "    - Develop new features\n",
    "    - Fine-tune parameters (NOT looking at test-set)\n",
    "    - Find more data (more divers), and test models on this data as well"
   ]
  },
  {
   "cell_type": "code",
   "execution_count": null,
   "metadata": {},
   "outputs": [],
   "source": []
  },
  {
   "cell_type": "code",
   "execution_count": 62,
   "metadata": {},
   "outputs": [
    {
     "name": "stdout",
     "output_type": "stream",
     "text": [
      "compiled successfully!\n"
     ]
    }
   ],
   "source": [
    "print(\"compiled successfully!\")"
   ]
  }
 ],
 "metadata": {
  "kernelspec": {
   "display_name": "Python 3",
   "language": "python",
   "name": "python3"
  },
  "language_info": {
   "codemirror_mode": {
    "name": "ipython",
    "version": 3
   },
   "file_extension": ".py",
   "mimetype": "text/x-python",
   "name": "python",
   "nbconvert_exporter": "python",
   "pygments_lexer": "ipython3",
   "version": "3.6.8"
  }
 },
 "nbformat": 4,
 "nbformat_minor": 2
}
