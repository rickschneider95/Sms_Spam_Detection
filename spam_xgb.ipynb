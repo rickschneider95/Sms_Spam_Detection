{
 "cells": [
  {
   "cell_type": "markdown",
   "metadata": {},
   "source": [
    "# 4) XGBoost"
   ]
  },
  {
   "cell_type": "markdown",
   "metadata": {},
   "source": [
    "Good tutorial xgboost:\n",
    "    \n",
    "https://www.datacamp.com/community/tutorials/xgboost-in-python"
   ]
  },
  {
   "cell_type": "markdown",
   "metadata": {},
   "source": [
    "### 4. What is XGBoost?"
   ]
  },
  {
   "cell_type": "markdown",
   "metadata": {},
   "source": [
    "slide with explanations:"
   ]
  },
  {
   "cell_type": "markdown",
   "metadata": {},
   "source": [
    "### 4.) Load and prepare data for algorithm:"
   ]
  },
  {
   "cell_type": "code",
   "execution_count": 15,
   "metadata": {},
   "outputs": [],
   "source": [
    "#import libraries:\n",
    "import pandas as pd\n",
    "import numpy as np\n",
    "import xgboost as xgb\n",
    "from sklearn.metrics import accuracy_score\n",
    "from sklearn.metrics import log_loss\n",
    "from sklearn.model_selection import train_test_split\n",
    "from sklearn.metrics import roc_curve\n",
    "from sklearn.metrics import roc_auc_score\n",
    "from sklearn.metrics import confusion_matrix\n",
    "\n",
    "import seaborn as sns\n",
    "import matplotlib.pyplot as plt"
   ]
  },
  {
   "cell_type": "code",
   "execution_count": 16,
   "metadata": {},
   "outputs": [
    {
     "data": {
      "text/html": [
       "<div>\n",
       "<style scoped>\n",
       "    .dataframe tbody tr th:only-of-type {\n",
       "        vertical-align: middle;\n",
       "    }\n",
       "\n",
       "    .dataframe tbody tr th {\n",
       "        vertical-align: top;\n",
       "    }\n",
       "\n",
       "    .dataframe thead th {\n",
       "        text-align: right;\n",
       "    }\n",
       "</style>\n",
       "<table border=\"1\" class=\"dataframe\">\n",
       "  <thead>\n",
       "    <tr style=\"text-align: right;\">\n",
       "      <th></th>\n",
       "      <th>class</th>\n",
       "      <th>sms</th>\n",
       "      <th>length</th>\n",
       "      <th>sw_count</th>\n",
       "      <th>sc_count</th>\n",
       "      <th>hyperlink</th>\n",
       "      <th>digit_count</th>\n",
       "      <th>phone</th>\n",
       "      <th>smileys</th>\n",
       "      <th>weeb</th>\n",
       "      <th>upper_case</th>\n",
       "    </tr>\n",
       "  </thead>\n",
       "  <tbody>\n",
       "    <tr>\n",
       "      <th>0</th>\n",
       "      <td>0</td>\n",
       "      <td>Go until jurong point, crazy.. Available only ...</td>\n",
       "      <td>111</td>\n",
       "      <td>32</td>\n",
       "      <td>8</td>\n",
       "      <td>False</td>\n",
       "      <td>0</td>\n",
       "      <td>False</td>\n",
       "      <td>0</td>\n",
       "      <td>False</td>\n",
       "      <td>3</td>\n",
       "    </tr>\n",
       "    <tr>\n",
       "      <th>1</th>\n",
       "      <td>0</td>\n",
       "      <td>Ok lar... Joking wif u oni...</td>\n",
       "      <td>29</td>\n",
       "      <td>6</td>\n",
       "      <td>6</td>\n",
       "      <td>False</td>\n",
       "      <td>0</td>\n",
       "      <td>False</td>\n",
       "      <td>0</td>\n",
       "      <td>False</td>\n",
       "      <td>2</td>\n",
       "    </tr>\n",
       "    <tr>\n",
       "      <th>2</th>\n",
       "      <td>1</td>\n",
       "      <td>Free entry in 2 a wkly comp to win FA Cup fina...</td>\n",
       "      <td>155</td>\n",
       "      <td>43</td>\n",
       "      <td>1</td>\n",
       "      <td>False</td>\n",
       "      <td>25</td>\n",
       "      <td>True</td>\n",
       "      <td>0</td>\n",
       "      <td>False</td>\n",
       "      <td>10</td>\n",
       "    </tr>\n",
       "    <tr>\n",
       "      <th>3</th>\n",
       "      <td>0</td>\n",
       "      <td>U dun say so early hor... U c already then say...</td>\n",
       "      <td>49</td>\n",
       "      <td>17</td>\n",
       "      <td>6</td>\n",
       "      <td>False</td>\n",
       "      <td>0</td>\n",
       "      <td>False</td>\n",
       "      <td>0</td>\n",
       "      <td>False</td>\n",
       "      <td>2</td>\n",
       "    </tr>\n",
       "    <tr>\n",
       "      <th>4</th>\n",
       "      <td>0</td>\n",
       "      <td>Nah I don't think he goes to usf, he lives aro...</td>\n",
       "      <td>61</td>\n",
       "      <td>18</td>\n",
       "      <td>0</td>\n",
       "      <td>False</td>\n",
       "      <td>0</td>\n",
       "      <td>False</td>\n",
       "      <td>0</td>\n",
       "      <td>False</td>\n",
       "      <td>2</td>\n",
       "    </tr>\n",
       "  </tbody>\n",
       "</table>\n",
       "</div>"
      ],
      "text/plain": [
       "   class                                                sms  length  sw_count  \\\n",
       "0      0  Go until jurong point, crazy.. Available only ...     111        32   \n",
       "1      0                      Ok lar... Joking wif u oni...      29         6   \n",
       "2      1  Free entry in 2 a wkly comp to win FA Cup fina...     155        43   \n",
       "3      0  U dun say so early hor... U c already then say...      49        17   \n",
       "4      0  Nah I don't think he goes to usf, he lives aro...      61        18   \n",
       "\n",
       "   sc_count  hyperlink  digit_count  phone  smileys   weeb  upper_case  \n",
       "0         8      False            0  False        0  False           3  \n",
       "1         6      False            0  False        0  False           2  \n",
       "2         1      False           25   True        0  False          10  \n",
       "3         6      False            0  False        0  False           2  \n",
       "4         0      False            0  False        0  False           2  "
      ]
     },
     "execution_count": 16,
     "metadata": {},
     "output_type": "execute_result"
    }
   ],
   "source": [
    "#import file with features:\n",
    "xgbdata = pd.read_csv(\"df_features.csv\")\n",
    "xgbdata.head(5)"
   ]
  },
  {
   "cell_type": "code",
   "execution_count": 17,
   "metadata": {},
   "outputs": [
    {
     "data": {
      "text/html": [
       "<div>\n",
       "<style scoped>\n",
       "    .dataframe tbody tr th:only-of-type {\n",
       "        vertical-align: middle;\n",
       "    }\n",
       "\n",
       "    .dataframe tbody tr th {\n",
       "        vertical-align: top;\n",
       "    }\n",
       "\n",
       "    .dataframe thead th {\n",
       "        text-align: right;\n",
       "    }\n",
       "</style>\n",
       "<table border=\"1\" class=\"dataframe\">\n",
       "  <thead>\n",
       "    <tr style=\"text-align: right;\">\n",
       "      <th></th>\n",
       "      <th>class</th>\n",
       "      <th>length</th>\n",
       "      <th>sc_count</th>\n",
       "      <th>sw_count</th>\n",
       "      <th>hyperlink</th>\n",
       "      <th>digit_count</th>\n",
       "      <th>smileys</th>\n",
       "      <th>upper_case</th>\n",
       "    </tr>\n",
       "  </thead>\n",
       "  <tbody>\n",
       "    <tr>\n",
       "      <th>0</th>\n",
       "      <td>0</td>\n",
       "      <td>111</td>\n",
       "      <td>8</td>\n",
       "      <td>32</td>\n",
       "      <td>0</td>\n",
       "      <td>0</td>\n",
       "      <td>0</td>\n",
       "      <td>3</td>\n",
       "    </tr>\n",
       "    <tr>\n",
       "      <th>1</th>\n",
       "      <td>0</td>\n",
       "      <td>29</td>\n",
       "      <td>6</td>\n",
       "      <td>6</td>\n",
       "      <td>0</td>\n",
       "      <td>0</td>\n",
       "      <td>0</td>\n",
       "      <td>2</td>\n",
       "    </tr>\n",
       "    <tr>\n",
       "      <th>2</th>\n",
       "      <td>1</td>\n",
       "      <td>155</td>\n",
       "      <td>1</td>\n",
       "      <td>43</td>\n",
       "      <td>0</td>\n",
       "      <td>25</td>\n",
       "      <td>0</td>\n",
       "      <td>10</td>\n",
       "    </tr>\n",
       "    <tr>\n",
       "      <th>3</th>\n",
       "      <td>0</td>\n",
       "      <td>49</td>\n",
       "      <td>6</td>\n",
       "      <td>17</td>\n",
       "      <td>0</td>\n",
       "      <td>0</td>\n",
       "      <td>0</td>\n",
       "      <td>2</td>\n",
       "    </tr>\n",
       "    <tr>\n",
       "      <th>4</th>\n",
       "      <td>0</td>\n",
       "      <td>61</td>\n",
       "      <td>0</td>\n",
       "      <td>18</td>\n",
       "      <td>0</td>\n",
       "      <td>0</td>\n",
       "      <td>0</td>\n",
       "      <td>2</td>\n",
       "    </tr>\n",
       "  </tbody>\n",
       "</table>\n",
       "</div>"
      ],
      "text/plain": [
       "   class  length  sc_count  sw_count  hyperlink  digit_count  smileys  \\\n",
       "0      0     111         8        32          0            0        0   \n",
       "1      0      29         6         6          0            0        0   \n",
       "2      1     155         1        43          0           25        0   \n",
       "3      0      49         6        17          0            0        0   \n",
       "4      0      61         0        18          0            0        0   \n",
       "\n",
       "   upper_case  \n",
       "0           3  \n",
       "1           2  \n",
       "2          10  \n",
       "3           2  \n",
       "4           2  "
      ]
     },
     "execution_count": 17,
     "metadata": {},
     "output_type": "execute_result"
    }
   ],
   "source": [
    "#change False to 0 and True to 1:\n",
    "#define function:\n",
    "def bool_to_bin(colname):\n",
    "    index_false = xgbdata.loc[:,colname]==False\n",
    "    xgbdata.loc[index_false,colname]=0\n",
    "    xgbdata.loc[-index_false,colname]=1\n",
    "\n",
    "bool_to_bin(\"hyperlink\")\n",
    "bool_to_bin(\"phone\")\n",
    "bool_to_bin(\"weeb\")\n",
    "\n",
    "xgbdata = xgbdata.loc[:,[\"class\",\"length\",\"sc_count\",\"sw_count\",\"hyperlink\",\"digit_count\",\"smileys\",\"upper_case\"]]\n",
    "\n",
    "xgbdata.head(5)"
   ]
  },
  {
   "cell_type": "code",
   "execution_count": 18,
   "metadata": {},
   "outputs": [],
   "source": [
    "#separate data in target and predictor variables:\n",
    "X = xgbdata.iloc[:,1:]\n",
    "y = xgbdata.iloc[:,0]\n",
    "\n",
    "#transform into Dmatrix (faster and supported by xgboost):\n",
    "dmatrix = xgb.DMatrix(data=X,label=y)"
   ]
  },
  {
   "cell_type": "code",
   "execution_count": 19,
   "metadata": {},
   "outputs": [],
   "source": [
    "#make train test split (80-20)\n",
    "X_train, X_test, y_train, y_test = train_test_split(X, y, test_size=0.20, random_state=111)\n",
    "#set seed in order to be able to reproduce results"
   ]
  },
  {
   "cell_type": "markdown",
   "metadata": {},
   "source": [
    "### 4. Train model:"
   ]
  },
  {
   "cell_type": "code",
   "execution_count": 20,
   "metadata": {},
   "outputs": [
    {
     "data": {
      "text/plain": [
       "XGBRegressor(alpha=10, base_score=0.5, booster='gbtree', colsample_bylevel=1,\n",
       "       colsample_bytree=0.3, gamma=0, learning_rate=0.1, max_delta_step=0,\n",
       "       max_depth=5, min_child_weight=1, missing=None, n_estimators=10,\n",
       "       n_jobs=1, nthread=None, num_boost_round=50,\n",
       "       objective='binary:logistic', random_state=0, reg_alpha=0,\n",
       "       reg_lambda=1, scale_pos_weight=1, seed=None, silent=True,\n",
       "       subsample=1)"
      ]
     },
     "execution_count": 20,
     "metadata": {},
     "output_type": "execute_result"
    }
   ],
   "source": [
    "#generate classifier:\n",
    "xg_reg = xgb.XGBRegressor(objective ='binary:logistic', colsample_bytree = 0.3, learning_rate = 0.1,\n",
    "                max_depth = 5, alpha = 10, n_estimators = 10,num_boost_round=50)\n",
    "#make prediction:\n",
    "xg_reg.fit(X_train,y_train)"
   ]
  },
  {
   "cell_type": "markdown",
   "metadata": {},
   "source": [
    "### 4. Evaluate model:"
   ]
  },
  {
   "cell_type": "code",
   "execution_count": 21,
   "metadata": {},
   "outputs": [],
   "source": [
    "%%capture\n",
    "#CROSS VALIDATION \n",
    "params={\"max_depth\":5, \"min_child_weight\":2, \"eta\": 0.1, \"subsamples\":0.9, \"colsample_bytree\":0.8, \"objective\" : \"binary:logistic\", \"eval_metric\": [\"error\",\"logloss\",\"auc\"]}\n",
    "rounds = 200\n",
    "\n",
    "result = xgb.cv(params=params, nfold=5, dtrain=dmatrix, num_boost_round=rounds, as_pandas=True, seed=10,early_stopping_rounds=50)\n"
   ]
  },
  {
   "cell_type": "code",
   "execution_count": 22,
   "metadata": {
    "scrolled": true
   },
   "outputs": [
    {
     "data": {
      "image/png": "[encoded data removed]",
      "text/plain": [
       "<Figure size 1440x720 with 3 Axes>"
      ]
     },
     "metadata": {
      "needs_background": "light"
     },
     "output_type": "display_data"
    }
   ],
   "source": [
    "test_error = result.loc[:,\"test-error-mean\"]\n",
    "train_error = result.loc[:,\"train-error-mean\"]\n",
    "test_logloss = result.loc[:,\"test-logloss-mean\"]\n",
    "train_logloss = result.loc[:,\"train-logloss-mean\"]\n",
    "test_auc = result.loc[:,\"test-auc-mean\"]\n",
    "train_auc = result.loc[:,\"train-auc-mean\"]\n",
    "n = range(len(test_auc))\n",
    "\n",
    "fig = plt.figure(figsize=(20, 10))\n",
    "ax1 = fig.add_subplot(3,1,1)\n",
    "ax2 = fig.add_subplot(3,1,2)\n",
    "ax3 = fig.add_subplot(3,1,3)\n",
    "\n",
    "sns.lineplot(n,test_error,ax=ax1,label=\"test error\")\n",
    "sns.lineplot(n,train_error,ax=ax1, label=\"train error\")\n",
    "ax1.set_title(\"Test error in function of number of boosting rounds\")\n",
    "ax1.legend()\n",
    "\n",
    "sns.lineplot(n,test_logloss,ax=ax2,label=\"train logloss\")\n",
    "sns.lineplot(n,train_logloss,ax=ax2,label=\"test logloss\")\n",
    "ax2.set_title(\"Logloss in function of number of boosting rounds\")\n",
    "ax2.legend()\n",
    "\n",
    "sns.lineplot(n,test_auc,ax=ax3,label=\"train AUC-score\")\n",
    "sns.lineplot(n,train_auc,ax=ax3,label=\"test AUC-score\")\n",
    "ax3.set_title(\"AUC score in function of number of boosting rounds\")\n",
    "ax3.legend()\n",
    "\n",
    "plt.show()"
   ]
  },
  {
   "cell_type": "markdown",
   "metadata": {},
   "source": [
    "We see that all the metrics converge with the number of boosting rounds. There seems to be no issue with overfitting either. As such, lets chooser 50 boosting rounds for the following tests."
   ]
  },
  {
   "cell_type": "code",
   "execution_count": 23,
   "metadata": {},
   "outputs": [
    {
     "name": "stdout",
     "output_type": "stream",
     "text": [
      "Accuracy for training: 97.33%\n",
      "Logloss for training:  0.28073484721432945\n"
     ]
    }
   ],
   "source": [
    "#TRAIN ERROR:\n",
    "y_pred = xg_reg.predict(X_train)\n",
    "predictions = [round(value) for value in y_pred]\n",
    "# evaluate predictions\n",
    "accuracy1 = accuracy_score(y_train, predictions)\n",
    "l1 = log_loss(y_train, y_pred)\n",
    "print(\"Accuracy for training: %.2f%%\" % (accuracy1 * 100.0))\n",
    "print(\"Logloss for training: \",l1)\n"
   ]
  },
  {
   "cell_type": "code",
   "execution_count": 24,
   "metadata": {},
   "outputs": [
    {
     "name": "stdout",
     "output_type": "stream",
     "text": [
      "Accuracy for test set: 97.58%\n",
      "Logloss for training:  0.2769729296321826\n"
     ]
    }
   ],
   "source": [
    "#TEST ERROR:\n",
    "y_pred = xg_reg.predict(X_test)\n",
    "predictions = [round(value) for value in y_pred]\n",
    "# evaluate predictions\n",
    "accuracy2 = accuracy_score(y_test, predictions)\n",
    "l2 = log_loss(y_test, y_pred)\n",
    "print(\"Accuracy for test set: %.2f%%\" % (accuracy2 * 100.0))\n",
    "print(\"Logloss for training: \",l2)\n"
   ]
  },
  {
   "cell_type": "code",
   "execution_count": 25,
   "metadata": {},
   "outputs": [
    {
     "name": "stderr",
     "output_type": "stream",
     "text": [
      "C:\\Users\\rick\\Anaconda3\\lib\\site-packages\\scipy\\stats\\stats.py:1713: FutureWarning: Using a non-tuple sequence for multidimensional indexing is deprecated; use `arr[tuple(seq)]` instead of `arr[seq]`. In the future this will be interpreted as an array index, `arr[np.array(seq)]`, which will result either in an error or a different result.\n",
      "  return np.add.reduce(sorted[indexer] * weights, axis=axis) / sumval\n"
     ]
    },
    {
     "name": "stdout",
     "output_type": "stream",
     "text": [
      "0.9869299977114087\n"
     ]
    },
    {
     "data": {
      "image/png": "[encoded data removed]",
      "text/plain": [
       "<Figure size 432x288 with 1 Axes>"
      ]
     },
     "metadata": {
      "needs_background": "light"
     },
     "output_type": "display_data"
    }
   ],
   "source": [
    "#plot area under the curve:\n",
    "roc = roc_curve(y_test,y_pred)\n",
    "x = roc[0]\n",
    "y = roc[1]\n",
    "sns.lineplot(x,y)\n",
    "print(roc_auc_score(y_test,y_pred))\n"
   ]
  },
  {
   "cell_type": "code",
   "execution_count": 26,
   "metadata": {},
   "outputs": [
    {
     "data": {
      "text/plain": [
       "<matplotlib.axes._subplots.AxesSubplot at 0x1b331e06240>"
      ]
     },
     "execution_count": 26,
     "metadata": {},
     "output_type": "execute_result"
    },
    {
     "data": {
      "image/png": "[encoded data removed]",
      "text/plain": [
       "<Figure size 432x288 with 1 Axes>"
      ]
     },
     "metadata": {
      "needs_background": "light"
     },
     "output_type": "display_data"
    }
   ],
   "source": [
    "#generate a confusion matrix\n",
    "cm = confusion_matrix(y_test,np.round(y_pred))\n",
    "sns.heatmap(cm,annot=True,cbar=False,square=True,cmap='Blues',fmt='g',linewidths=0.5)\n"
   ]
  },
  {
   "cell_type": "code",
   "execution_count": null,
   "metadata": {},
   "outputs": [],
   "source": []
  },
  {
   "cell_type": "code",
   "execution_count": null,
   "metadata": {},
   "outputs": [],
   "source": []
  },
  {
   "cell_type": "code",
   "execution_count": null,
   "metadata": {
    "scrolled": true
   },
   "outputs": [],
   "source": []
  },
  {
   "cell_type": "code",
   "execution_count": null,
   "metadata": {},
   "outputs": [],
   "source": []
  },
  {
   "cell_type": "markdown",
   "metadata": {},
   "source": [
    "### 4. Test on unseen SMS"
   ]
  },
  {
   "cell_type": "code",
   "execution_count": 27,
   "metadata": {},
   "outputs": [],
   "source": [
    "#invent 2 non-spam sms (easy and difficult):\n",
    "sms1_non_spam = \"Hey man, how you doin???\"\n",
    "sms2_non_spam = \"Hello Eric, here's my other phone number: +33 661 29 77 66\"\n",
    "#invent 2 spam sms (easy and difficult):\n",
    "sms1_spam = \"CONGRATULATIONS, you won at the lottery! All you need to do is call us on the following number: +33 72 36 54 28. Or you can visit www.youwonlottery.com\"\n",
    "sms2_spam = \"What a time to be alive! You can now buy the new Ray Ban sunglasses at a discount rate of -50%. Reply with -I want 50% off-\"\n"
   ]
  },
  {
   "cell_type": "code",
   "execution_count": null,
   "metadata": {},
   "outputs": [],
   "source": []
  },
  {
   "cell_type": "markdown",
   "metadata": {},
   "source": [
    "### 4. Weaknesses and strengths of model:"
   ]
  },
  {
   "cell_type": "code",
   "execution_count": null,
   "metadata": {},
   "outputs": [],
   "source": []
  },
  {
   "cell_type": "code",
   "execution_count": null,
   "metadata": {},
   "outputs": [],
   "source": []
  },
  {
   "cell_type": "code",
   "execution_count": null,
   "metadata": {},
   "outputs": [],
   "source": []
  },
  {
   "cell_type": "markdown",
   "metadata": {},
   "source": [
    "early stopping to avoid overfitting??\n",
    "\n",
    "https://machinelearningmastery.com/avoid-overfitting-by-early-stopping-with-xgboost-in-python/"
   ]
  },
  {
   "cell_type": "code",
   "execution_count": 28,
   "metadata": {
    "scrolled": true
   },
   "outputs": [
    {
     "name": "stdout",
     "output_type": "stream",
     "text": [
      "[0]\tvalidation_0-error:0.026912\tvalidation_1-error:0.021525\n",
      "[1]\tvalidation_0-error:0.024893\tvalidation_1-error:0.018834\n",
      "[2]\tvalidation_0-error:0.025791\tvalidation_1-error:0.019731\n",
      "[3]\tvalidation_0-error:0.025342\tvalidation_1-error:0.022422\n",
      "[4]\tvalidation_0-error:0.031621\tvalidation_1-error:0.025112\n",
      "[5]\tvalidation_0-error:0.025791\tvalidation_1-error:0.021525\n",
      "[6]\tvalidation_0-error:0.027136\tvalidation_1-error:0.022422\n",
      "[7]\tvalidation_0-error:0.030052\tvalidation_1-error:0.026009\n",
      "[8]\tvalidation_0-error:0.032743\tvalidation_1-error:0.026906\n",
      "[9]\tvalidation_0-error:0.026688\tvalidation_1-error:0.024215\n",
      "{'validation_0': {'error': [0.026912, 0.024893, 0.025791, 0.025342, 0.031621, 0.025791, 0.027136, 0.030052, 0.032743, 0.026688]}, 'validation_1': {'error': [0.021525, 0.018834, 0.019731, 0.022422, 0.025112, 0.021525, 0.022422, 0.026009, 0.026906, 0.024215]}}\n"
     ]
    }
   ],
   "source": [
    "\n",
    "eval_set = [(X_train, y_train), (X_test, y_test)]\n",
    "xg_reg.fit(X_train, y_train, eval_metric=\"error\", eval_set=eval_set, verbose=True)\n",
    "\n",
    "\n",
    "results = xg_reg.evals_result()\n",
    "print(results)"
   ]
  },
  {
   "cell_type": "code",
   "execution_count": null,
   "metadata": {},
   "outputs": [],
   "source": []
  },
  {
   "cell_type": "code",
   "execution_count": null,
   "metadata": {},
   "outputs": [],
   "source": []
  },
  {
   "cell_type": "code",
   "execution_count": null,
   "metadata": {},
   "outputs": [],
   "source": []
  },
  {
   "cell_type": "code",
   "execution_count": null,
   "metadata": {},
   "outputs": [],
   "source": []
  }
 ],
 "metadata": {
  "kernelspec": {
   "display_name": "Python 3",
   "language": "python",
   "name": "python3"
  },
  "language_info": {
   "codemirror_mode": {
    "name": "ipython",
    "version": 3
   },
   "file_extension": ".py",
   "mimetype": "text/x-python",
   "name": "python",
   "nbconvert_exporter": "python",
   "pygments_lexer": "ipython3",
   "version": "3.6.8"
  }
 },
 "nbformat": 4,
 "nbformat_minor": 2
}
